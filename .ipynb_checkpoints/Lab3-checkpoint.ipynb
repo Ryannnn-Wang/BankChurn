{
 "cells": [
  {
   "cell_type": "markdown",
   "metadata": {
    "id": "RTlTQFelk1yI"
   },
   "source": [
    "## Domain Selection:\n",
    "Our team has chosen to focus on the Banking Industry, specifically analyzing customer churn.\n",
    "This decision aligns with our interests in understanding customer behavior and retention strategies within a highly competitive sector.\n",
    "Customer churn is a critical area for banks, as retaining existing clients is often more cost-effective than acquiring new ones. By analyzing patterns and identifying factors that influence customers to leave, we can provide insights that help banks improve customer loyalty and minimize churn rates.\n",
    "Given the significance of customer retention for banks, this topic will allow us to explore predictive analytics and gain hands-on experience with models to forecast churn.\n",
    "This is not only relevant in the banking industry but also applicable across other sectors where customer loyalty is key. We believe this focus will provide valuable insights and practical applications for our future work in data analytics."
   ]
  },
  {
   "cell_type": "markdown",
   "metadata": {
    "id": "S28FQuRBk8_3"
   },
   "source": [
    "## Dataset Selection:\n",
    "link: https://www.kaggle.com/datasets/shubh0799/churn-modelling"
   ]
  },
  {
   "cell_type": "code",
   "execution_count": 3,
   "metadata": {
    "colab": {
     "base_uri": "https://localhost:8080/",
     "height": 343
    },
    "id": "HSNdeRwCZUyL",
    "outputId": "a356fdca-1ec2-4905-f00a-5e2dfddc0237"
   },
   "outputs": [
    {
     "name": "stdout",
     "output_type": "stream",
     "text": [
      "zsh:1: command not found: gdown\n",
      "\u001b[34mBitcoin\u001b[m\u001b[m                     La3.ipynb\n",
      "Churn_Modelling.csv         Lab1.ipynb\n",
      "Churn_Modelling_Updated.csv Lab2.ipynb\n"
     ]
    },
    {
     "data": {
      "text/html": [
       "<div>\n",
       "<style scoped>\n",
       "    .dataframe tbody tr th:only-of-type {\n",
       "        vertical-align: middle;\n",
       "    }\n",
       "\n",
       "    .dataframe tbody tr th {\n",
       "        vertical-align: top;\n",
       "    }\n",
       "\n",
       "    .dataframe thead th {\n",
       "        text-align: right;\n",
       "    }\n",
       "</style>\n",
       "<table border=\"1\" class=\"dataframe\">\n",
       "  <thead>\n",
       "    <tr style=\"text-align: right;\">\n",
       "      <th></th>\n",
       "      <th>RowNumber</th>\n",
       "      <th>CustomerId</th>\n",
       "      <th>Surname</th>\n",
       "      <th>CreditScore</th>\n",
       "      <th>Geography</th>\n",
       "      <th>Gender</th>\n",
       "      <th>Age</th>\n",
       "      <th>Tenure</th>\n",
       "      <th>Balance</th>\n",
       "      <th>NumOfProducts</th>\n",
       "      <th>HasCrCard</th>\n",
       "      <th>IsActiveMember</th>\n",
       "      <th>EstimatedSalary</th>\n",
       "      <th>Exited</th>\n",
       "    </tr>\n",
       "  </thead>\n",
       "  <tbody>\n",
       "    <tr>\n",
       "      <th>0</th>\n",
       "      <td>1</td>\n",
       "      <td>15634602</td>\n",
       "      <td>Hargrave</td>\n",
       "      <td>619</td>\n",
       "      <td>France</td>\n",
       "      <td>Female</td>\n",
       "      <td>42</td>\n",
       "      <td>2</td>\n",
       "      <td>0.00</td>\n",
       "      <td>1</td>\n",
       "      <td>1</td>\n",
       "      <td>1</td>\n",
       "      <td>101348.88</td>\n",
       "      <td>1</td>\n",
       "    </tr>\n",
       "    <tr>\n",
       "      <th>1</th>\n",
       "      <td>2</td>\n",
       "      <td>15647311</td>\n",
       "      <td>Hill</td>\n",
       "      <td>608</td>\n",
       "      <td>Spain</td>\n",
       "      <td>Female</td>\n",
       "      <td>41</td>\n",
       "      <td>1</td>\n",
       "      <td>83807.86</td>\n",
       "      <td>1</td>\n",
       "      <td>0</td>\n",
       "      <td>1</td>\n",
       "      <td>112542.58</td>\n",
       "      <td>0</td>\n",
       "    </tr>\n",
       "    <tr>\n",
       "      <th>2</th>\n",
       "      <td>3</td>\n",
       "      <td>15619304</td>\n",
       "      <td>Onio</td>\n",
       "      <td>502</td>\n",
       "      <td>France</td>\n",
       "      <td>Female</td>\n",
       "      <td>42</td>\n",
       "      <td>8</td>\n",
       "      <td>159660.80</td>\n",
       "      <td>3</td>\n",
       "      <td>1</td>\n",
       "      <td>0</td>\n",
       "      <td>113931.57</td>\n",
       "      <td>1</td>\n",
       "    </tr>\n",
       "    <tr>\n",
       "      <th>3</th>\n",
       "      <td>4</td>\n",
       "      <td>15701354</td>\n",
       "      <td>Boni</td>\n",
       "      <td>699</td>\n",
       "      <td>France</td>\n",
       "      <td>Female</td>\n",
       "      <td>39</td>\n",
       "      <td>1</td>\n",
       "      <td>0.00</td>\n",
       "      <td>2</td>\n",
       "      <td>0</td>\n",
       "      <td>0</td>\n",
       "      <td>93826.63</td>\n",
       "      <td>0</td>\n",
       "    </tr>\n",
       "    <tr>\n",
       "      <th>4</th>\n",
       "      <td>5</td>\n",
       "      <td>15737888</td>\n",
       "      <td>Mitchell</td>\n",
       "      <td>850</td>\n",
       "      <td>Spain</td>\n",
       "      <td>Female</td>\n",
       "      <td>43</td>\n",
       "      <td>2</td>\n",
       "      <td>125510.82</td>\n",
       "      <td>1</td>\n",
       "      <td>1</td>\n",
       "      <td>1</td>\n",
       "      <td>79084.10</td>\n",
       "      <td>0</td>\n",
       "    </tr>\n",
       "  </tbody>\n",
       "</table>\n",
       "</div>"
      ],
      "text/plain": [
       "   RowNumber  CustomerId   Surname  CreditScore Geography  Gender  Age  \\\n",
       "0          1    15634602  Hargrave          619    France  Female   42   \n",
       "1          2    15647311      Hill          608     Spain  Female   41   \n",
       "2          3    15619304      Onio          502    France  Female   42   \n",
       "3          4    15701354      Boni          699    France  Female   39   \n",
       "4          5    15737888  Mitchell          850     Spain  Female   43   \n",
       "\n",
       "   Tenure    Balance  NumOfProducts  HasCrCard  IsActiveMember  \\\n",
       "0       2       0.00              1          1               1   \n",
       "1       1   83807.86              1          0               1   \n",
       "2       8  159660.80              3          1               0   \n",
       "3       1       0.00              2          0               0   \n",
       "4       2  125510.82              1          1               1   \n",
       "\n",
       "   EstimatedSalary  Exited  \n",
       "0        101348.88       1  \n",
       "1        112542.58       0  \n",
       "2        113931.57       1  \n",
       "3         93826.63       0  \n",
       "4         79084.10       0  "
      ]
     },
     "execution_count": 3,
     "metadata": {},
     "output_type": "execute_result"
    }
   ],
   "source": [
    "# Download the file with file_id \"1u9LAl1TH4U08fb4L38ASyXbPKZyl5Y9m\" from google drive and name it\n",
    "!gdown --id '1u9LAl1TH4U08fb4L38ASyXbPKZyl5Y9m' --output Churn_Modelling.csv\n",
    "# List all files in the current directory\n",
    "!ls\n",
    "import pandas as pd\n",
    "df = pd.read_csv('Churn_Modelling.csv')\n",
    "df.head()"
   ]
  },
  {
   "cell_type": "code",
   "execution_count": 4,
   "metadata": {
    "colab": {
     "base_uri": "https://localhost:8080/",
     "height": 224
    },
    "id": "PfEmQZw1gFyK",
    "outputId": "7461d15b-5258-4298-fca2-81a0b21aebc8"
   },
   "outputs": [
    {
     "data": {
      "text/html": [
       "<div>\n",
       "<style scoped>\n",
       "    .dataframe tbody tr th:only-of-type {\n",
       "        vertical-align: middle;\n",
       "    }\n",
       "\n",
       "    .dataframe tbody tr th {\n",
       "        vertical-align: top;\n",
       "    }\n",
       "\n",
       "    .dataframe thead th {\n",
       "        text-align: right;\n",
       "    }\n",
       "</style>\n",
       "<table border=\"1\" class=\"dataframe\">\n",
       "  <thead>\n",
       "    <tr style=\"text-align: right;\">\n",
       "      <th></th>\n",
       "      <th>RowNumber</th>\n",
       "      <th>CustomerId</th>\n",
       "      <th>Surname</th>\n",
       "      <th>CreditScore</th>\n",
       "      <th>Geography</th>\n",
       "      <th>Gender</th>\n",
       "      <th>Age</th>\n",
       "      <th>Tenure</th>\n",
       "      <th>Balance</th>\n",
       "      <th>NumOfProducts</th>\n",
       "      <th>HasCrCard</th>\n",
       "      <th>IsActiveMember</th>\n",
       "      <th>EstimatedSalary</th>\n",
       "      <th>Exited</th>\n",
       "    </tr>\n",
       "  </thead>\n",
       "  <tbody>\n",
       "    <tr>\n",
       "      <th>0</th>\n",
       "      <td>1</td>\n",
       "      <td>15634602</td>\n",
       "      <td>Hargrave</td>\n",
       "      <td>619</td>\n",
       "      <td>France</td>\n",
       "      <td>Female</td>\n",
       "      <td>42</td>\n",
       "      <td>2</td>\n",
       "      <td>0.00</td>\n",
       "      <td>1</td>\n",
       "      <td>1</td>\n",
       "      <td>1</td>\n",
       "      <td>101348.88</td>\n",
       "      <td>1</td>\n",
       "    </tr>\n",
       "    <tr>\n",
       "      <th>1</th>\n",
       "      <td>2</td>\n",
       "      <td>15647311</td>\n",
       "      <td>Hill</td>\n",
       "      <td>608</td>\n",
       "      <td>Spain</td>\n",
       "      <td>Female</td>\n",
       "      <td>41</td>\n",
       "      <td>1</td>\n",
       "      <td>83807.86</td>\n",
       "      <td>1</td>\n",
       "      <td>0</td>\n",
       "      <td>1</td>\n",
       "      <td>112542.58</td>\n",
       "      <td>0</td>\n",
       "    </tr>\n",
       "    <tr>\n",
       "      <th>2</th>\n",
       "      <td>3</td>\n",
       "      <td>15619304</td>\n",
       "      <td>Onio</td>\n",
       "      <td>502</td>\n",
       "      <td>France</td>\n",
       "      <td>Female</td>\n",
       "      <td>42</td>\n",
       "      <td>8</td>\n",
       "      <td>159660.80</td>\n",
       "      <td>3</td>\n",
       "      <td>1</td>\n",
       "      <td>0</td>\n",
       "      <td>113931.57</td>\n",
       "      <td>1</td>\n",
       "    </tr>\n",
       "    <tr>\n",
       "      <th>3</th>\n",
       "      <td>4</td>\n",
       "      <td>15701354</td>\n",
       "      <td>Boni</td>\n",
       "      <td>699</td>\n",
       "      <td>France</td>\n",
       "      <td>Female</td>\n",
       "      <td>39</td>\n",
       "      <td>1</td>\n",
       "      <td>0.00</td>\n",
       "      <td>2</td>\n",
       "      <td>0</td>\n",
       "      <td>0</td>\n",
       "      <td>93826.63</td>\n",
       "      <td>0</td>\n",
       "    </tr>\n",
       "    <tr>\n",
       "      <th>4</th>\n",
       "      <td>5</td>\n",
       "      <td>15737888</td>\n",
       "      <td>Mitchell</td>\n",
       "      <td>850</td>\n",
       "      <td>Spain</td>\n",
       "      <td>Female</td>\n",
       "      <td>43</td>\n",
       "      <td>2</td>\n",
       "      <td>125510.82</td>\n",
       "      <td>1</td>\n",
       "      <td>1</td>\n",
       "      <td>1</td>\n",
       "      <td>79084.10</td>\n",
       "      <td>0</td>\n",
       "    </tr>\n",
       "  </tbody>\n",
       "</table>\n",
       "</div>"
      ],
      "text/plain": [
       "   RowNumber  CustomerId   Surname  CreditScore Geography  Gender  Age  \\\n",
       "0          1    15634602  Hargrave          619    France  Female   42   \n",
       "1          2    15647311      Hill          608     Spain  Female   41   \n",
       "2          3    15619304      Onio          502    France  Female   42   \n",
       "3          4    15701354      Boni          699    France  Female   39   \n",
       "4          5    15737888  Mitchell          850     Spain  Female   43   \n",
       "\n",
       "   Tenure    Balance  NumOfProducts  HasCrCard  IsActiveMember  \\\n",
       "0       2       0.00              1          1               1   \n",
       "1       1   83807.86              1          0               1   \n",
       "2       8  159660.80              3          1               0   \n",
       "3       1       0.00              2          0               0   \n",
       "4       2  125510.82              1          1               1   \n",
       "\n",
       "   EstimatedSalary  Exited  \n",
       "0        101348.88       1  \n",
       "1        112542.58       0  \n",
       "2        113931.57       1  \n",
       "3         93826.63       0  \n",
       "4         79084.10       0  "
      ]
     },
     "execution_count": 4,
     "metadata": {},
     "output_type": "execute_result"
    }
   ],
   "source": [
    "import pandas as pd\n",
    "df = pd.read_csv('Churn_Modelling.csv')\n",
    "df.head()"
   ]
  },
  {
   "cell_type": "code",
   "execution_count": 5,
   "metadata": {
    "id": "Up1BMK2MlSQu"
   },
   "outputs": [],
   "source": [
    "df.set_index('RowNumber',inplace = True)"
   ]
  },
  {
   "cell_type": "code",
   "execution_count": 6,
   "metadata": {
    "colab": {
     "base_uri": "https://localhost:8080/"
    },
    "id": "-l5SDytIlV_1",
    "outputId": "0a7d530e-f916-46e9-f8c0-97b9399c8508"
   },
   "outputs": [
    {
     "name": "stdout",
     "output_type": "stream",
     "text": [
      "CustomerId           int64\n",
      "Surname             object\n",
      "CreditScore          int64\n",
      "Geography           object\n",
      "Gender              object\n",
      "Age                  int64\n",
      "Tenure               int64\n",
      "Balance            float64\n",
      "NumOfProducts        int64\n",
      "HasCrCard            int64\n",
      "IsActiveMember       int64\n",
      "EstimatedSalary    float64\n",
      "Exited               int64\n",
      "dtype: object\n"
     ]
    }
   ],
   "source": [
    "print(df.dtypes)"
   ]
  },
  {
   "cell_type": "code",
   "execution_count": 7,
   "metadata": {
    "colab": {
     "base_uri": "https://localhost:8080/",
     "height": 317
    },
    "id": "MkP2ri0jlnB_",
    "outputId": "4616e3c1-ee7e-431c-a234-f7d43d792283"
   },
   "outputs": [
    {
     "data": {
      "text/html": [
       "<div>\n",
       "<style scoped>\n",
       "    .dataframe tbody tr th:only-of-type {\n",
       "        vertical-align: middle;\n",
       "    }\n",
       "\n",
       "    .dataframe tbody tr th {\n",
       "        vertical-align: top;\n",
       "    }\n",
       "\n",
       "    .dataframe thead th {\n",
       "        text-align: right;\n",
       "    }\n",
       "</style>\n",
       "<table border=\"1\" class=\"dataframe\">\n",
       "  <thead>\n",
       "    <tr style=\"text-align: right;\">\n",
       "      <th></th>\n",
       "      <th>CustomerId</th>\n",
       "      <th>CreditScore</th>\n",
       "      <th>Age</th>\n",
       "      <th>Tenure</th>\n",
       "      <th>Balance</th>\n",
       "      <th>NumOfProducts</th>\n",
       "      <th>HasCrCard</th>\n",
       "      <th>IsActiveMember</th>\n",
       "      <th>EstimatedSalary</th>\n",
       "      <th>Exited</th>\n",
       "    </tr>\n",
       "  </thead>\n",
       "  <tbody>\n",
       "    <tr>\n",
       "      <th>count</th>\n",
       "      <td>1.000000e+04</td>\n",
       "      <td>10000.000000</td>\n",
       "      <td>10000.000000</td>\n",
       "      <td>10000.000000</td>\n",
       "      <td>10000.000000</td>\n",
       "      <td>10000.000000</td>\n",
       "      <td>10000.00000</td>\n",
       "      <td>10000.000000</td>\n",
       "      <td>10000.000000</td>\n",
       "      <td>10000.000000</td>\n",
       "    </tr>\n",
       "    <tr>\n",
       "      <th>mean</th>\n",
       "      <td>1.569094e+07</td>\n",
       "      <td>650.528800</td>\n",
       "      <td>38.921800</td>\n",
       "      <td>5.012800</td>\n",
       "      <td>76485.889288</td>\n",
       "      <td>1.530200</td>\n",
       "      <td>0.70550</td>\n",
       "      <td>0.515100</td>\n",
       "      <td>100090.239881</td>\n",
       "      <td>0.203700</td>\n",
       "    </tr>\n",
       "    <tr>\n",
       "      <th>std</th>\n",
       "      <td>7.193619e+04</td>\n",
       "      <td>96.653299</td>\n",
       "      <td>10.487806</td>\n",
       "      <td>2.892174</td>\n",
       "      <td>62397.405202</td>\n",
       "      <td>0.581654</td>\n",
       "      <td>0.45584</td>\n",
       "      <td>0.499797</td>\n",
       "      <td>57510.492818</td>\n",
       "      <td>0.402769</td>\n",
       "    </tr>\n",
       "    <tr>\n",
       "      <th>min</th>\n",
       "      <td>1.556570e+07</td>\n",
       "      <td>350.000000</td>\n",
       "      <td>18.000000</td>\n",
       "      <td>0.000000</td>\n",
       "      <td>0.000000</td>\n",
       "      <td>1.000000</td>\n",
       "      <td>0.00000</td>\n",
       "      <td>0.000000</td>\n",
       "      <td>11.580000</td>\n",
       "      <td>0.000000</td>\n",
       "    </tr>\n",
       "    <tr>\n",
       "      <th>25%</th>\n",
       "      <td>1.562853e+07</td>\n",
       "      <td>584.000000</td>\n",
       "      <td>32.000000</td>\n",
       "      <td>3.000000</td>\n",
       "      <td>0.000000</td>\n",
       "      <td>1.000000</td>\n",
       "      <td>0.00000</td>\n",
       "      <td>0.000000</td>\n",
       "      <td>51002.110000</td>\n",
       "      <td>0.000000</td>\n",
       "    </tr>\n",
       "    <tr>\n",
       "      <th>50%</th>\n",
       "      <td>1.569074e+07</td>\n",
       "      <td>652.000000</td>\n",
       "      <td>37.000000</td>\n",
       "      <td>5.000000</td>\n",
       "      <td>97198.540000</td>\n",
       "      <td>1.000000</td>\n",
       "      <td>1.00000</td>\n",
       "      <td>1.000000</td>\n",
       "      <td>100193.915000</td>\n",
       "      <td>0.000000</td>\n",
       "    </tr>\n",
       "    <tr>\n",
       "      <th>75%</th>\n",
       "      <td>1.575323e+07</td>\n",
       "      <td>718.000000</td>\n",
       "      <td>44.000000</td>\n",
       "      <td>7.000000</td>\n",
       "      <td>127644.240000</td>\n",
       "      <td>2.000000</td>\n",
       "      <td>1.00000</td>\n",
       "      <td>1.000000</td>\n",
       "      <td>149388.247500</td>\n",
       "      <td>0.000000</td>\n",
       "    </tr>\n",
       "    <tr>\n",
       "      <th>max</th>\n",
       "      <td>1.581569e+07</td>\n",
       "      <td>850.000000</td>\n",
       "      <td>92.000000</td>\n",
       "      <td>10.000000</td>\n",
       "      <td>250898.090000</td>\n",
       "      <td>4.000000</td>\n",
       "      <td>1.00000</td>\n",
       "      <td>1.000000</td>\n",
       "      <td>199992.480000</td>\n",
       "      <td>1.000000</td>\n",
       "    </tr>\n",
       "  </tbody>\n",
       "</table>\n",
       "</div>"
      ],
      "text/plain": [
       "         CustomerId   CreditScore           Age        Tenure        Balance  \\\n",
       "count  1.000000e+04  10000.000000  10000.000000  10000.000000   10000.000000   \n",
       "mean   1.569094e+07    650.528800     38.921800      5.012800   76485.889288   \n",
       "std    7.193619e+04     96.653299     10.487806      2.892174   62397.405202   \n",
       "min    1.556570e+07    350.000000     18.000000      0.000000       0.000000   \n",
       "25%    1.562853e+07    584.000000     32.000000      3.000000       0.000000   \n",
       "50%    1.569074e+07    652.000000     37.000000      5.000000   97198.540000   \n",
       "75%    1.575323e+07    718.000000     44.000000      7.000000  127644.240000   \n",
       "max    1.581569e+07    850.000000     92.000000     10.000000  250898.090000   \n",
       "\n",
       "       NumOfProducts    HasCrCard  IsActiveMember  EstimatedSalary  \\\n",
       "count   10000.000000  10000.00000    10000.000000     10000.000000   \n",
       "mean        1.530200      0.70550        0.515100    100090.239881   \n",
       "std         0.581654      0.45584        0.499797     57510.492818   \n",
       "min         1.000000      0.00000        0.000000        11.580000   \n",
       "25%         1.000000      0.00000        0.000000     51002.110000   \n",
       "50%         1.000000      1.00000        1.000000    100193.915000   \n",
       "75%         2.000000      1.00000        1.000000    149388.247500   \n",
       "max         4.000000      1.00000        1.000000    199992.480000   \n",
       "\n",
       "             Exited  \n",
       "count  10000.000000  \n",
       "mean       0.203700  \n",
       "std        0.402769  \n",
       "min        0.000000  \n",
       "25%        0.000000  \n",
       "50%        0.000000  \n",
       "75%        0.000000  \n",
       "max        1.000000  "
      ]
     },
     "execution_count": 7,
     "metadata": {},
     "output_type": "execute_result"
    }
   ],
   "source": [
    "df.describe()"
   ]
  },
  {
   "cell_type": "markdown",
   "metadata": {
    "id": "g-ZtNKooltBk"
   },
   "source": [
    "## Outcome Variables:Excited (0:Stayed and 1:Left)\n",
    "**Description**:\\\n",
    "**0 represents** a customer who has stayed with the bank.\\\n",
    "**1 represents** a customer who has exited or left the bank.\\\n",
    "**Justification**: Exited as the outcome variable because it clearly represents customer churn, which is the primary focus of predicting whether a customer will stay or leave the bank."
   ]
  },
  {
   "cell_type": "markdown",
   "metadata": {
    "id": "igrRxLv5l_Yl"
   },
   "source": [
    "##Feature Selection:"
   ]
  },
  {
   "cell_type": "code",
   "execution_count": 10,
   "metadata": {
    "colab": {
     "base_uri": "https://localhost:8080/",
     "height": 1000
    },
    "id": "JirxorlZl_Kv",
    "outputId": "f444175f-cac9-4d8b-a1e3-2568bfd4c084"
   },
   "outputs": [
    {
     "data": {
      "text/html": [
       "<div>\n",
       "<style scoped>\n",
       "    .dataframe tbody tr th:only-of-type {\n",
       "        vertical-align: middle;\n",
       "    }\n",
       "\n",
       "    .dataframe tbody tr th {\n",
       "        vertical-align: top;\n",
       "    }\n",
       "\n",
       "    .dataframe thead th {\n",
       "        text-align: right;\n",
       "    }\n",
       "</style>\n",
       "<table border=\"1\" class=\"dataframe\">\n",
       "  <thead>\n",
       "    <tr style=\"text-align: right;\">\n",
       "      <th></th>\n",
       "      <th>Feature</th>\n",
       "      <th>Data_Type</th>\n",
       "      <th>Min</th>\n",
       "      <th>Max</th>\n",
       "      <th>Range</th>\n",
       "      <th>Justification</th>\n",
       "    </tr>\n",
       "  </thead>\n",
       "  <tbody>\n",
       "    <tr>\n",
       "      <th>0</th>\n",
       "      <td>CustomerId</td>\n",
       "      <td>int64</td>\n",
       "      <td>15565701</td>\n",
       "      <td>15815690</td>\n",
       "      <td>15565701 - 15815690</td>\n",
       "      <td>' CustomerId ' is unique for each customer and...</td>\n",
       "    </tr>\n",
       "    <tr>\n",
       "      <th>1</th>\n",
       "      <td>Surname</td>\n",
       "      <td>object</td>\n",
       "      <td></td>\n",
       "      <td></td>\n",
       "      <td>(Non-numeric)</td>\n",
       "      <td>' Surname ' does not influence customer churn ...</td>\n",
       "    </tr>\n",
       "    <tr>\n",
       "      <th>2</th>\n",
       "      <td>CreditScore</td>\n",
       "      <td>int64</td>\n",
       "      <td>350</td>\n",
       "      <td>850</td>\n",
       "      <td>350 - 850</td>\n",
       "      <td>' CreditScore ' may affect financial stability...</td>\n",
       "    </tr>\n",
       "    <tr>\n",
       "      <th>3</th>\n",
       "      <td>Geography</td>\n",
       "      <td>object</td>\n",
       "      <td></td>\n",
       "      <td></td>\n",
       "      <td>(Non-numeric)</td>\n",
       "      <td>' Geography ' might reflect regional satisfact...</td>\n",
       "    </tr>\n",
       "    <tr>\n",
       "      <th>4</th>\n",
       "      <td>Gender</td>\n",
       "      <td>object</td>\n",
       "      <td></td>\n",
       "      <td></td>\n",
       "      <td>(Non-numeric)</td>\n",
       "      <td>' Gender ' differences might influence behavio...</td>\n",
       "    </tr>\n",
       "    <tr>\n",
       "      <th>5</th>\n",
       "      <td>Age</td>\n",
       "      <td>int64</td>\n",
       "      <td>18</td>\n",
       "      <td>92</td>\n",
       "      <td>18 - 92</td>\n",
       "      <td>' Age ' may correlate with loyalty; younger cu...</td>\n",
       "    </tr>\n",
       "    <tr>\n",
       "      <th>6</th>\n",
       "      <td>Tenure</td>\n",
       "      <td>int64</td>\n",
       "      <td>0</td>\n",
       "      <td>10</td>\n",
       "      <td>0 - 10</td>\n",
       "      <td>' Tenure ' indicates loyalty; shorter tenure m...</td>\n",
       "    </tr>\n",
       "    <tr>\n",
       "      <th>7</th>\n",
       "      <td>Balance</td>\n",
       "      <td>float64</td>\n",
       "      <td>0.0</td>\n",
       "      <td>250898.09</td>\n",
       "      <td>0.0 - 250898.09</td>\n",
       "      <td>' Balance ' Customers with zero balance might ...</td>\n",
       "    </tr>\n",
       "    <tr>\n",
       "      <th>8</th>\n",
       "      <td>NumOfProducts</td>\n",
       "      <td>int64</td>\n",
       "      <td>1</td>\n",
       "      <td>4</td>\n",
       "      <td>1 - 4</td>\n",
       "      <td>' NumOfProducts ' More products indicate highe...</td>\n",
       "    </tr>\n",
       "    <tr>\n",
       "      <th>9</th>\n",
       "      <td>HasCrCard</td>\n",
       "      <td>int64</td>\n",
       "      <td>0</td>\n",
       "      <td>1</td>\n",
       "      <td>0 - 1</td>\n",
       "      <td>' HasCrCard ' Credit card holders may be more ...</td>\n",
       "    </tr>\n",
       "    <tr>\n",
       "      <th>10</th>\n",
       "      <td>IsActiveMember</td>\n",
       "      <td>int64</td>\n",
       "      <td>0</td>\n",
       "      <td>1</td>\n",
       "      <td>0 - 1</td>\n",
       "      <td>' IsActiveMember ' are more engaged, often sho...</td>\n",
       "    </tr>\n",
       "    <tr>\n",
       "      <th>11</th>\n",
       "      <td>EstimatedSalary</td>\n",
       "      <td>float64</td>\n",
       "      <td>11.58</td>\n",
       "      <td>199992.48</td>\n",
       "      <td>11.58 - 199992.48</td>\n",
       "      <td>' EstimatedSalary ' may correlate with financi...</td>\n",
       "    </tr>\n",
       "    <tr>\n",
       "      <th>12</th>\n",
       "      <td>Exited</td>\n",
       "      <td>int64</td>\n",
       "      <td>0</td>\n",
       "      <td>1</td>\n",
       "      <td>0 - 1</td>\n",
       "      <td>' Exited ' target variable, indicating if the ...</td>\n",
       "    </tr>\n",
       "  </tbody>\n",
       "</table>\n",
       "</div>"
      ],
      "text/plain": [
       "            Feature Data_Type       Min        Max                Range  \\\n",
       "0        CustomerId     int64  15565701   15815690  15565701 - 15815690   \n",
       "1           Surname    object                             (Non-numeric)   \n",
       "2       CreditScore     int64       350        850            350 - 850   \n",
       "3         Geography    object                             (Non-numeric)   \n",
       "4            Gender    object                             (Non-numeric)   \n",
       "5               Age     int64        18         92              18 - 92   \n",
       "6            Tenure     int64         0         10               0 - 10   \n",
       "7           Balance   float64       0.0  250898.09      0.0 - 250898.09   \n",
       "8     NumOfProducts     int64         1          4                1 - 4   \n",
       "9         HasCrCard     int64         0          1                0 - 1   \n",
       "10   IsActiveMember     int64         0          1                0 - 1   \n",
       "11  EstimatedSalary   float64     11.58  199992.48    11.58 - 199992.48   \n",
       "12           Exited     int64         0          1                0 - 1   \n",
       "\n",
       "                                        Justification  \n",
       "0   ' CustomerId ' is unique for each customer and...  \n",
       "1   ' Surname ' does not influence customer churn ...  \n",
       "2   ' CreditScore ' may affect financial stability...  \n",
       "3   ' Geography ' might reflect regional satisfact...  \n",
       "4   ' Gender ' differences might influence behavio...  \n",
       "5   ' Age ' may correlate with loyalty; younger cu...  \n",
       "6   ' Tenure ' indicates loyalty; shorter tenure m...  \n",
       "7   ' Balance ' Customers with zero balance might ...  \n",
       "8   ' NumOfProducts ' More products indicate highe...  \n",
       "9   ' HasCrCard ' Credit card holders may be more ...  \n",
       "10  ' IsActiveMember ' are more engaged, often sho...  \n",
       "11  ' EstimatedSalary ' may correlate with financi...  \n",
       "12  ' Exited ' target variable, indicating if the ...  "
      ]
     },
     "execution_count": 10,
     "metadata": {},
     "output_type": "execute_result"
    }
   ],
   "source": [
    "summary = []\n",
    "\n",
    "# Loop through each column to capture relevant information\n",
    "for column in df.columns:\n",
    "    feature_info = {}\n",
    "    feature_info['Feature'] = column\n",
    "    feature_info['Data_Type'] = df[column].dtype\n",
    "\n",
    "    # Determine Min and Max only for numeric columns\n",
    "    if pd.api.types.is_numeric_dtype(df[column]):\n",
    "        feature_info['Min'] = df[column].min()\n",
    "        feature_info['Max'] = df[column].max()\n",
    "        feature_info['Range'] = f\"{feature_info['Min']} - {feature_info['Max']}\"\n",
    "    else:\n",
    "        feature_info['Min'] = ''\n",
    "        feature_info['Max'] = ''\n",
    "        feature_info['Range'] = \"(Non-numeric)\"\n",
    "\n",
    "    # Justifications for each feature\n",
    "    if column == 'CustomerId':\n",
    "        feature_info['Justification'] = f\"' {column} ' is unique for each customer and does not contribute to the prediction of churn, so it can be excluded from the analysis\"\n",
    "    elif column == 'Surname':\n",
    "        feature_info['Justification'] = f\"' {column} ' does not influence customer churn and can be excluded.\"\n",
    "    elif column == 'CreditScore':\n",
    "        feature_info['Justification'] = f\"' {column} ' may affect financial stability, potentially influencing churn.\"\n",
    "    elif column == 'Geography':\n",
    "        feature_info['Justification'] = f\"' {column} ' might reflect regional satisfaction variations affecting churn.\"\n",
    "    elif column == 'Gender':\n",
    "        feature_info['Justification'] = f\"' {column} ' differences might influence behavior and satisfaction, impacting churn.\"\n",
    "    elif column == 'Age':\n",
    "        feature_info['Justification'] = f\"' {column} ' may correlate with loyalty; younger customers may be more likely to churn.\"\n",
    "    elif column == 'Tenure':\n",
    "        feature_info['Justification'] = f\"' {column} ' indicates loyalty; shorter tenure may increase churn likelihood.\"\n",
    "    elif column == 'Balance':\n",
    "        feature_info['Justification'] = f\"' {column} ' Customers with zero balance might be less engaged and more likely to churn.\"\n",
    "    elif column == 'NumOfProducts':\n",
    "        feature_info['Justification'] = f\"' {column} ' More products indicate higher engagement, potentially reducing churn.\"\n",
    "    elif column == 'HasCrCard':\n",
    "        feature_info['Justification'] = f\"' {column} ' Credit card holders may be more engaged, indicating lower churn likelihood.\"\n",
    "    elif column == 'IsActiveMember':\n",
    "        feature_info['Justification'] = f\"' {column} ' are more engaged, often showing lower churn rates.\"\n",
    "    elif column == 'EstimatedSalary':\n",
    "        feature_info['Justification'] = f\"' {column} ' may correlate with financial stability, influencing churn risk.\"\n",
    "    elif column == 'Exited':\n",
    "        feature_info['Justification'] = f\"' {column} ' target variable, indicating if the customer has churned (1) or not (0).\"\n",
    "\n",
    "    # Append the feature_info to summary list\n",
    "    summary.append(feature_info)\n",
    "\n",
    "# Convert summary to a DataFrame for display\n",
    "summary_df = pd.DataFrame(summary)\n",
    "\n",
    "# Display the summary DataFrame\n",
    "summary_df"
   ]
  },
  {
   "cell_type": "markdown",
   "metadata": {
    "id": "cnMp4NqejqBy"
   },
   "source": [
    "\n",
    "##1. Introduction to Customer Churn Analysis in the Banking Industry\n",
    "In today’s competitive banking sector, understanding customer behavior and improving retention strategies are essential. Customer churn, or the rate at which clients leave a bank, poses a significant challenge. Retaining existing clients is often more cost-effective than acquiring new ones, making churn reduction a critical area for banks. By focusing on factors that drive customers to leave, banks can implement targeted strategies to enhance customer loyalty and minimize churn rates.\n",
    "\n",
    "## Research Objective and Question\n",
    "Our objective is to analyze customer behavior to identify the key factors that influence churn in the banking industry. By leveraging predictive analytics, we aim to develop models that can forecast customer churn, enabling banks to proactively address risks and retain valuable clients.\n",
    "\n",
    "**Research Question:**\n",
    "*What are the primary factors influencing customer churn in the banking industry, and how can predictive models improve retention strategies?*\n",
    "\n",
    "## Significance\n",
    "The findings from this study will not only benefit the banking sector but also provide insights that can be applied to other industries where customer loyalty is crucial. This project offers our team valuable experience in predictive analytics and real-world applications of churn analysis.\n"
   ]
  },
  {
   "cell_type": "markdown",
   "metadata": {
    "id": "vi0bDiSBs2Ac"
   },
   "source": [
    "##2. Dataset Overview\n",
    "This dataset contains information about bank customers, including demographic, financial, and behavioral data. Each row represents a unique customer, and the data includes attributes that may influence customer churn, such as age, credit score, account balance, and the number of products owned. The primary goal is to predict customer churn, indicated by the `Exited` column, which shows whether a customer has left the bank (1) or stayed (0).\n",
    "## Key Columns\n",
    "- **CustomerId**: Unique identifier for each customer.\n",
    "- **Surname**: Last name of the customer (primarily for identification purposes).\n",
    "- **CreditScore**: Credit score of the customer, potentially reflecting financial reliability.\n",
    "- **Geography**: Location of the customer, such as country or region.\n",
    "- **Gender**: Gender of the customer.\n",
    "- **Age**: Age of the customer, which may influence their banking needs and behavior.\n",
    "- **Tenure**: Number of years the customer has been with the bank, reflecting loyalty.\n",
    "- **Balance**: Account balance, showing the amount of money in the customer’s account.\n",
    "- **NumOfProducts**: Number of bank products the customer holds, such as loans or credit cards.\n",
    "- **HasCrCard**: Indicates if the customer has a credit card (1 = Yes, 0 = No).\n",
    "- **IsActiveMember**: Indicates if the customer is an active member of the bank (1 = Yes, 0 = No).\n",
    "- **EstimatedSalary**: Estimated annual salary of the customer.\n",
    "- **Exited**: Target variable indicating if the customer has churned (1 = Yes, 0 = No).\n",
    "\n",
    "This dataset can be used to identify patterns that influence customer churn, helping banks develop strategies to improve customer retention.\n",
    "\n",
    "Below, we display the first few rows of the dataset:df.set_index('RowNumber',inplace = True)\n"
   ]
  },
  {
   "cell_type": "code",
   "execution_count": 13,
   "metadata": {
    "colab": {
     "base_uri": "https://localhost:8080/",
     "height": 343
    },
    "id": "ZZBFK3e8H-Gq",
    "outputId": "879798fd-f0c8-4e95-aaa3-c2a0b30014fa"
   },
   "outputs": [
    {
     "name": "stdout",
     "output_type": "stream",
     "text": [
      "zsh:1: command not found: gdown\n",
      "\u001b[34mBitcoin\u001b[m\u001b[m                     La3.ipynb\n",
      "Churn_Modelling.csv         Lab1.ipynb\n",
      "Churn_Modelling_Updated.csv Lab2.ipynb\n"
     ]
    },
    {
     "data": {
      "text/html": [
       "<div>\n",
       "<style scoped>\n",
       "    .dataframe tbody tr th:only-of-type {\n",
       "        vertical-align: middle;\n",
       "    }\n",
       "\n",
       "    .dataframe tbody tr th {\n",
       "        vertical-align: top;\n",
       "    }\n",
       "\n",
       "    .dataframe thead th {\n",
       "        text-align: right;\n",
       "    }\n",
       "</style>\n",
       "<table border=\"1\" class=\"dataframe\">\n",
       "  <thead>\n",
       "    <tr style=\"text-align: right;\">\n",
       "      <th></th>\n",
       "      <th>RowNumber</th>\n",
       "      <th>CustomerId</th>\n",
       "      <th>Surname</th>\n",
       "      <th>CreditScore</th>\n",
       "      <th>Geography</th>\n",
       "      <th>Gender</th>\n",
       "      <th>Age</th>\n",
       "      <th>Tenure</th>\n",
       "      <th>Balance</th>\n",
       "      <th>NumOfProducts</th>\n",
       "      <th>HasCrCard</th>\n",
       "      <th>IsActiveMember</th>\n",
       "      <th>EstimatedSalary</th>\n",
       "      <th>Exited</th>\n",
       "    </tr>\n",
       "  </thead>\n",
       "  <tbody>\n",
       "    <tr>\n",
       "      <th>0</th>\n",
       "      <td>1</td>\n",
       "      <td>15634602</td>\n",
       "      <td>Hargrave</td>\n",
       "      <td>619</td>\n",
       "      <td>France</td>\n",
       "      <td>Female</td>\n",
       "      <td>42</td>\n",
       "      <td>2</td>\n",
       "      <td>0.00</td>\n",
       "      <td>1</td>\n",
       "      <td>1</td>\n",
       "      <td>1</td>\n",
       "      <td>101348.88</td>\n",
       "      <td>1</td>\n",
       "    </tr>\n",
       "    <tr>\n",
       "      <th>1</th>\n",
       "      <td>2</td>\n",
       "      <td>15647311</td>\n",
       "      <td>Hill</td>\n",
       "      <td>608</td>\n",
       "      <td>Spain</td>\n",
       "      <td>Female</td>\n",
       "      <td>41</td>\n",
       "      <td>1</td>\n",
       "      <td>83807.86</td>\n",
       "      <td>1</td>\n",
       "      <td>0</td>\n",
       "      <td>1</td>\n",
       "      <td>112542.58</td>\n",
       "      <td>0</td>\n",
       "    </tr>\n",
       "    <tr>\n",
       "      <th>2</th>\n",
       "      <td>3</td>\n",
       "      <td>15619304</td>\n",
       "      <td>Onio</td>\n",
       "      <td>502</td>\n",
       "      <td>France</td>\n",
       "      <td>Female</td>\n",
       "      <td>42</td>\n",
       "      <td>8</td>\n",
       "      <td>159660.80</td>\n",
       "      <td>3</td>\n",
       "      <td>1</td>\n",
       "      <td>0</td>\n",
       "      <td>113931.57</td>\n",
       "      <td>1</td>\n",
       "    </tr>\n",
       "    <tr>\n",
       "      <th>3</th>\n",
       "      <td>4</td>\n",
       "      <td>15701354</td>\n",
       "      <td>Boni</td>\n",
       "      <td>699</td>\n",
       "      <td>France</td>\n",
       "      <td>Female</td>\n",
       "      <td>39</td>\n",
       "      <td>1</td>\n",
       "      <td>0.00</td>\n",
       "      <td>2</td>\n",
       "      <td>0</td>\n",
       "      <td>0</td>\n",
       "      <td>93826.63</td>\n",
       "      <td>0</td>\n",
       "    </tr>\n",
       "    <tr>\n",
       "      <th>4</th>\n",
       "      <td>5</td>\n",
       "      <td>15737888</td>\n",
       "      <td>Mitchell</td>\n",
       "      <td>850</td>\n",
       "      <td>Spain</td>\n",
       "      <td>Female</td>\n",
       "      <td>43</td>\n",
       "      <td>2</td>\n",
       "      <td>125510.82</td>\n",
       "      <td>1</td>\n",
       "      <td>1</td>\n",
       "      <td>1</td>\n",
       "      <td>79084.10</td>\n",
       "      <td>0</td>\n",
       "    </tr>\n",
       "  </tbody>\n",
       "</table>\n",
       "</div>"
      ],
      "text/plain": [
       "   RowNumber  CustomerId   Surname  CreditScore Geography  Gender  Age  \\\n",
       "0          1    15634602  Hargrave          619    France  Female   42   \n",
       "1          2    15647311      Hill          608     Spain  Female   41   \n",
       "2          3    15619304      Onio          502    France  Female   42   \n",
       "3          4    15701354      Boni          699    France  Female   39   \n",
       "4          5    15737888  Mitchell          850     Spain  Female   43   \n",
       "\n",
       "   Tenure    Balance  NumOfProducts  HasCrCard  IsActiveMember  \\\n",
       "0       2       0.00              1          1               1   \n",
       "1       1   83807.86              1          0               1   \n",
       "2       8  159660.80              3          1               0   \n",
       "3       1       0.00              2          0               0   \n",
       "4       2  125510.82              1          1               1   \n",
       "\n",
       "   EstimatedSalary  Exited  \n",
       "0        101348.88       1  \n",
       "1        112542.58       0  \n",
       "2        113931.57       1  \n",
       "3         93826.63       0  \n",
       "4         79084.10       0  "
      ]
     },
     "execution_count": 13,
     "metadata": {},
     "output_type": "execute_result"
    }
   ],
   "source": [
    "# this code can download the dataset from Ryan's google drive. So we can run all the code in this Colab.\n",
    "# Ryan will change this code to above code from team1 when submitting.\n",
    "!gdown --id '1u9LAl1TH4U08fb4L38ASyXbPKZyl5Y9m' --output Churn_Modelling.csv\n",
    "# List all files in the current directory\n",
    "!ls\n",
    "import pandas as pd\n",
    "df = pd.read_csv('Churn_Modelling.csv')\n",
    "df.head()"
   ]
  },
  {
   "cell_type": "markdown",
   "metadata": {
    "id": "Wv3wIc5stOuE"
   },
   "source": [
    "##3. Importance of Predicting Customer Churn (`Exited`)\n",
    "The `Exited` variable represents whether a customer has left the bank (1) or remained (0), making it the primary indicator of customer churn. Predicting customer churn is crucial for banks because retaining existing customers is generally more cost-effective than acquiring new ones. Customer churn can lead to significant revenue loss, and understanding the factors that contribute to churn allows banks to develop strategies to retain valuable clients.\n",
    "\n",
    "By accurately predicting which customers are likely to leave, banks can take proactive steps to improve customer loyalty and satisfaction. This might include targeted offers, personalized services, or enhanced engagement efforts for at-risk customers. Reducing churn not only helps maintain a stable customer base but also enhances the bank's long-term profitability and competitiveness in a highly saturated market.\n",
    "\n",
    "In this analysis, predicting the `Exited` variable will provide actionable insights into customer behavior, helping the bank focus on retention strategies that minimize customer loss and improve overall business performance."
   ]
  },
  {
   "cell_type": "code",
   "execution_count": 15,
   "metadata": {
    "colab": {
     "base_uri": "https://localhost:8080/",
     "height": 487
    },
    "id": "ZlCB5Ryp7cUp",
    "outputId": "65f021d2-9fd5-485b-92ff-1cda3bcc466f"
   },
   "outputs": [
    {
     "data": {
      "image/png": "[encoded data removed]",
      "text/plain": [
       "<Figure size 700x500 with 1 Axes>"
      ]
     },
     "metadata": {},
     "output_type": "display_data"
    }
   ],
   "source": [
    "# 3.Highlight your target variable. Use a text cell to justify why this is an important variable to predict. If necessary, convert your target variable to a dummy variable and explain this in your text cell. Then, display a customized bar char, where the Title, Axis Labels, bar labels, and figure size are optimized.\n",
    "\n",
    "import matplotlib.pyplot as plt\n",
    "df['Exited'].value_counts().plot(kind='bar', figsize=(7, 5))\n",
    "plt.title('Customer Churn Distribution')\n",
    "plt.xlabel('Exited')\n",
    "plt.ylabel('Count')\n",
    "plt.show()"
   ]
  },
  {
   "cell_type": "markdown",
   "metadata": {
    "id": "2dhWZgU5tpDA"
   },
   "source": [
    "##4. Feature Selection Overview\n",
    "## Included Features\n",
    "We included features that provide valuable insights into customer behavior, financial status, and engagement with the bank:\n",
    "- **CreditScore**: Indicates the customer's credit reliability, which may impact their banking relationship.\n",
    "- **Geography**: Location data that could reveal churn patterns by region.\n",
    "- **Gender**: Demographic data, as certain patterns might exist between churn and gender.\n",
    "- **Age**: Age is often a strong predictor of behavior and banking needs, potentially influencing churn.\n",
    "- **Tenure**: The length of time a customer has been with the bank, which may correlate with loyalty.\n",
    "- **Balance**: Account balance could influence churn; customers with low balances might be more likely to leave.\n",
    "- **NumOfProducts**: The number of products held by the customer; those with more products may be less likely to churn.\n",
    "- **HasCrCard** and **IsActiveMember**: Indicators of engagement and financial behavior, which are likely to impact churn.\n",
    "- **EstimatedSalary**: Provides an idea of the customer’s income, which may correlate with product usage and loyalty.\n",
    "\n",
    "## Excluded Features\n",
    "We excluded features that do not provide meaningful information for churn prediction:\n",
    "- **CustomerId** and **RowNumber**: These are identifiers for each customer and row, which do not provide predictive value.\n",
    "- **Surname**: A customer’s last name is unlikely to have any relevance to their likelihood of churn and could introduce noise into the model.\n",
    "\n",
    "By focusing on these selected features, we aim to create a cleaner, more effective model. The remaining features are divided into two groups for further analysis: numeric and categorical features.\n",
    "\n",
    "Below, we create two filtered dataframes: one for numeric features and one for categorical features."
   ]
  },
  {
   "cell_type": "code",
   "execution_count": 17,
   "metadata": {
    "colab": {
     "base_uri": "https://localhost:8080/"
    },
    "id": "Rs__sc3v7wGE",
    "outputId": "1a604973-a953-4ea7-8859-6241d3b5482d"
   },
   "outputs": [
    {
     "name": "stdout",
     "output_type": "stream",
     "text": [
      "Numeric Features:\n",
      "   CreditScore  Age  Tenure    Balance  NumOfProducts  HasCrCard  \\\n",
      "0          619   42       2       0.00              1          1   \n",
      "1          608   41       1   83807.86              1          0   \n",
      "2          502   42       8  159660.80              3          1   \n",
      "3          699   39       1       0.00              2          0   \n",
      "4          850   43       2  125510.82              1          1   \n",
      "\n",
      "   IsActiveMember  EstimatedSalary  Exited  \n",
      "0               1        101348.88       1  \n",
      "1               1        112542.58       0  \n",
      "2               0        113931.57       1  \n",
      "3               0         93826.63       0  \n",
      "4               1         79084.10       0  \n",
      "\n",
      "Categorical Features:\n",
      "  Geography  Gender\n",
      "0    France  Female\n",
      "1     Spain  Female\n",
      "2    France  Female\n",
      "3    France  Female\n",
      "4     Spain  Female\n"
     ]
    }
   ],
   "source": [
    "# 4.A text cell that provides an overview of your feature selection process. Why did you choose to include the features you selected? Why did you choose to omit the features you excluded? Then, create two filtered dataframes: (1) your numeric features, (2) your categorical features (Note: You can exclude your target variable from these dataframes).\n",
    "\n",
    "# Excluding Unrelevant Characteristics\n",
    "df_selected = df.drop(columns=['CustomerId', 'RowNumber', 'Surname'])\n",
    "\n",
    "# Divided into numerical and categorical features.\n",
    "numeric_features = df_selected.select_dtypes(include=['int64', 'float64'])\n",
    "categorical_features = df_selected.select_dtypes(include=['object'])\n",
    "\n",
    "# Result\n",
    "print(\"Numeric Features:\")\n",
    "print(numeric_features.head())\n",
    "\n",
    "print(\"\\nCategorical Features:\")\n",
    "print(categorical_features.head())"
   ]
  },
  {
   "cell_type": "code",
   "execution_count": 18,
   "metadata": {
    "colab": {
     "base_uri": "https://localhost:8080/"
    },
    "id": "2HWnUM-bPX86",
    "outputId": "7f6e05a1-bbf8-41fd-9491-e6f1586c75ea"
   },
   "outputs": [
    {
     "name": "stdout",
     "output_type": "stream",
     "text": [
      "Potential dummy variables: ['HasCrCard', 'IsActiveMember', 'Exited']\n"
     ]
    }
   ],
   "source": [
    "# Below code is from class note\n",
    "\n",
    "# Initialize an empty list to hold the names of dummy variables\n",
    "dummy_vars = []\n",
    "\n",
    "# Loop over each column in the DataFrame\n",
    "for col in numeric_features.columns:\n",
    "    unique_values = numeric_features[col].nunique()\n",
    "    if unique_values == 2:\n",
    "        dummy_vars.append(col)\n",
    "\n",
    "print(\"Potential dummy variables:\", dummy_vars)\n"
   ]
  },
  {
   "cell_type": "code",
   "execution_count": 19,
   "metadata": {
    "colab": {
     "base_uri": "https://localhost:8080/",
     "height": 419
    },
    "id": "8C523-DDPR70",
    "outputId": "e32e2b76-7349-4ad3-ebf3-0c62c8b76e0f"
   },
   "outputs": [
    {
     "data": {
      "text/html": [
       "<div>\n",
       "<style scoped>\n",
       "    .dataframe tbody tr th:only-of-type {\n",
       "        vertical-align: middle;\n",
       "    }\n",
       "\n",
       "    .dataframe tbody tr th {\n",
       "        vertical-align: top;\n",
       "    }\n",
       "\n",
       "    .dataframe thead th {\n",
       "        text-align: right;\n",
       "    }\n",
       "</style>\n",
       "<table border=\"1\" class=\"dataframe\">\n",
       "  <thead>\n",
       "    <tr style=\"text-align: right;\">\n",
       "      <th></th>\n",
       "      <th>CreditScore</th>\n",
       "      <th>Age</th>\n",
       "      <th>Tenure</th>\n",
       "      <th>Balance</th>\n",
       "      <th>NumOfProducts</th>\n",
       "      <th>EstimatedSalary</th>\n",
       "    </tr>\n",
       "  </thead>\n",
       "  <tbody>\n",
       "    <tr>\n",
       "      <th>0</th>\n",
       "      <td>619</td>\n",
       "      <td>42</td>\n",
       "      <td>2</td>\n",
       "      <td>0.00</td>\n",
       "      <td>1</td>\n",
       "      <td>101348.88</td>\n",
       "    </tr>\n",
       "    <tr>\n",
       "      <th>1</th>\n",
       "      <td>608</td>\n",
       "      <td>41</td>\n",
       "      <td>1</td>\n",
       "      <td>83807.86</td>\n",
       "      <td>1</td>\n",
       "      <td>112542.58</td>\n",
       "    </tr>\n",
       "    <tr>\n",
       "      <th>2</th>\n",
       "      <td>502</td>\n",
       "      <td>42</td>\n",
       "      <td>8</td>\n",
       "      <td>159660.80</td>\n",
       "      <td>3</td>\n",
       "      <td>113931.57</td>\n",
       "    </tr>\n",
       "    <tr>\n",
       "      <th>3</th>\n",
       "      <td>699</td>\n",
       "      <td>39</td>\n",
       "      <td>1</td>\n",
       "      <td>0.00</td>\n",
       "      <td>2</td>\n",
       "      <td>93826.63</td>\n",
       "    </tr>\n",
       "    <tr>\n",
       "      <th>4</th>\n",
       "      <td>850</td>\n",
       "      <td>43</td>\n",
       "      <td>2</td>\n",
       "      <td>125510.82</td>\n",
       "      <td>1</td>\n",
       "      <td>79084.10</td>\n",
       "    </tr>\n",
       "    <tr>\n",
       "      <th>...</th>\n",
       "      <td>...</td>\n",
       "      <td>...</td>\n",
       "      <td>...</td>\n",
       "      <td>...</td>\n",
       "      <td>...</td>\n",
       "      <td>...</td>\n",
       "    </tr>\n",
       "    <tr>\n",
       "      <th>9995</th>\n",
       "      <td>771</td>\n",
       "      <td>39</td>\n",
       "      <td>5</td>\n",
       "      <td>0.00</td>\n",
       "      <td>2</td>\n",
       "      <td>96270.64</td>\n",
       "    </tr>\n",
       "    <tr>\n",
       "      <th>9996</th>\n",
       "      <td>516</td>\n",
       "      <td>35</td>\n",
       "      <td>10</td>\n",
       "      <td>57369.61</td>\n",
       "      <td>1</td>\n",
       "      <td>101699.77</td>\n",
       "    </tr>\n",
       "    <tr>\n",
       "      <th>9997</th>\n",
       "      <td>709</td>\n",
       "      <td>36</td>\n",
       "      <td>7</td>\n",
       "      <td>0.00</td>\n",
       "      <td>1</td>\n",
       "      <td>42085.58</td>\n",
       "    </tr>\n",
       "    <tr>\n",
       "      <th>9998</th>\n",
       "      <td>772</td>\n",
       "      <td>42</td>\n",
       "      <td>3</td>\n",
       "      <td>75075.31</td>\n",
       "      <td>2</td>\n",
       "      <td>92888.52</td>\n",
       "    </tr>\n",
       "    <tr>\n",
       "      <th>9999</th>\n",
       "      <td>792</td>\n",
       "      <td>28</td>\n",
       "      <td>4</td>\n",
       "      <td>130142.79</td>\n",
       "      <td>1</td>\n",
       "      <td>38190.78</td>\n",
       "    </tr>\n",
       "  </tbody>\n",
       "</table>\n",
       "<p>10000 rows × 6 columns</p>\n",
       "</div>"
      ],
      "text/plain": [
       "      CreditScore  Age  Tenure    Balance  NumOfProducts  EstimatedSalary\n",
       "0             619   42       2       0.00              1        101348.88\n",
       "1             608   41       1   83807.86              1        112542.58\n",
       "2             502   42       8  159660.80              3        113931.57\n",
       "3             699   39       1       0.00              2         93826.63\n",
       "4             850   43       2  125510.82              1         79084.10\n",
       "...           ...  ...     ...        ...            ...              ...\n",
       "9995          771   39       5       0.00              2         96270.64\n",
       "9996          516   35      10   57369.61              1        101699.77\n",
       "9997          709   36       7       0.00              1         42085.58\n",
       "9998          772   42       3   75075.31              2         92888.52\n",
       "9999          792   28       4  130142.79              1         38190.78\n",
       "\n",
       "[10000 rows x 6 columns]"
      ]
     },
     "execution_count": 19,
     "metadata": {},
     "output_type": "execute_result"
    }
   ],
   "source": [
    "# Select dummy variables from 'df'\n",
    "dummy_df = df[dummy_vars]\n",
    "\n",
    "# Concatenate 'dummy_df' with 'categorical_features'\n",
    "categorical_features = pd.concat([categorical_features, dummy_df], axis=1)\n",
    "\n",
    "# Drop dummy variables from 'numeric_features'\n",
    "numeric_features.drop(numeric_features[dummy_vars], axis=1, inplace=True)\n",
    "\n",
    "\n",
    "numeric_features"
   ]
  },
  {
   "cell_type": "code",
   "execution_count": 20,
   "metadata": {
    "colab": {
     "base_uri": "https://localhost:8080/",
     "height": 419
    },
    "id": "_8WxxfG1S1da",
    "outputId": "869a64b7-9a7b-464a-a8e2-ab4fe8e3d034"
   },
   "outputs": [
    {
     "data": {
      "text/html": [
       "<div>\n",
       "<style scoped>\n",
       "    .dataframe tbody tr th:only-of-type {\n",
       "        vertical-align: middle;\n",
       "    }\n",
       "\n",
       "    .dataframe tbody tr th {\n",
       "        vertical-align: top;\n",
       "    }\n",
       "\n",
       "    .dataframe thead th {\n",
       "        text-align: right;\n",
       "    }\n",
       "</style>\n",
       "<table border=\"1\" class=\"dataframe\">\n",
       "  <thead>\n",
       "    <tr style=\"text-align: right;\">\n",
       "      <th></th>\n",
       "      <th>Geography</th>\n",
       "      <th>Gender</th>\n",
       "      <th>HasCrCard</th>\n",
       "      <th>IsActiveMember</th>\n",
       "      <th>Exited</th>\n",
       "    </tr>\n",
       "  </thead>\n",
       "  <tbody>\n",
       "    <tr>\n",
       "      <th>0</th>\n",
       "      <td>France</td>\n",
       "      <td>Female</td>\n",
       "      <td>1</td>\n",
       "      <td>1</td>\n",
       "      <td>1</td>\n",
       "    </tr>\n",
       "    <tr>\n",
       "      <th>1</th>\n",
       "      <td>Spain</td>\n",
       "      <td>Female</td>\n",
       "      <td>0</td>\n",
       "      <td>1</td>\n",
       "      <td>0</td>\n",
       "    </tr>\n",
       "    <tr>\n",
       "      <th>2</th>\n",
       "      <td>France</td>\n",
       "      <td>Female</td>\n",
       "      <td>1</td>\n",
       "      <td>0</td>\n",
       "      <td>1</td>\n",
       "    </tr>\n",
       "    <tr>\n",
       "      <th>3</th>\n",
       "      <td>France</td>\n",
       "      <td>Female</td>\n",
       "      <td>0</td>\n",
       "      <td>0</td>\n",
       "      <td>0</td>\n",
       "    </tr>\n",
       "    <tr>\n",
       "      <th>4</th>\n",
       "      <td>Spain</td>\n",
       "      <td>Female</td>\n",
       "      <td>1</td>\n",
       "      <td>1</td>\n",
       "      <td>0</td>\n",
       "    </tr>\n",
       "    <tr>\n",
       "      <th>...</th>\n",
       "      <td>...</td>\n",
       "      <td>...</td>\n",
       "      <td>...</td>\n",
       "      <td>...</td>\n",
       "      <td>...</td>\n",
       "    </tr>\n",
       "    <tr>\n",
       "      <th>9995</th>\n",
       "      <td>France</td>\n",
       "      <td>Male</td>\n",
       "      <td>1</td>\n",
       "      <td>0</td>\n",
       "      <td>0</td>\n",
       "    </tr>\n",
       "    <tr>\n",
       "      <th>9996</th>\n",
       "      <td>France</td>\n",
       "      <td>Male</td>\n",
       "      <td>1</td>\n",
       "      <td>1</td>\n",
       "      <td>0</td>\n",
       "    </tr>\n",
       "    <tr>\n",
       "      <th>9997</th>\n",
       "      <td>France</td>\n",
       "      <td>Female</td>\n",
       "      <td>0</td>\n",
       "      <td>1</td>\n",
       "      <td>1</td>\n",
       "    </tr>\n",
       "    <tr>\n",
       "      <th>9998</th>\n",
       "      <td>Germany</td>\n",
       "      <td>Male</td>\n",
       "      <td>1</td>\n",
       "      <td>0</td>\n",
       "      <td>1</td>\n",
       "    </tr>\n",
       "    <tr>\n",
       "      <th>9999</th>\n",
       "      <td>France</td>\n",
       "      <td>Female</td>\n",
       "      <td>1</td>\n",
       "      <td>0</td>\n",
       "      <td>0</td>\n",
       "    </tr>\n",
       "  </tbody>\n",
       "</table>\n",
       "<p>10000 rows × 5 columns</p>\n",
       "</div>"
      ],
      "text/plain": [
       "     Geography  Gender  HasCrCard  IsActiveMember  Exited\n",
       "0       France  Female          1               1       1\n",
       "1        Spain  Female          0               1       0\n",
       "2       France  Female          1               0       1\n",
       "3       France  Female          0               0       0\n",
       "4        Spain  Female          1               1       0\n",
       "...        ...     ...        ...             ...     ...\n",
       "9995    France    Male          1               0       0\n",
       "9996    France    Male          1               1       0\n",
       "9997    France  Female          0               1       1\n",
       "9998   Germany    Male          1               0       1\n",
       "9999    France  Female          1               0       0\n",
       "\n",
       "[10000 rows x 5 columns]"
      ]
     },
     "execution_count": 20,
     "metadata": {},
     "output_type": "execute_result"
    }
   ],
   "source": [
    "categorical_features"
   ]
  },
  {
   "cell_type": "markdown",
   "metadata": {
    "id": "IZf3fVJWuLVA"
   },
   "source": [
    "##5. Exploratory Data Analysis (EDA) for Numeric Features\n",
    "## Steps in Our EDA Process:\n",
    "1. **Descriptive Statistics**: We calculate key statistics, including the mean, median, minimum, maximum, quartiles, and the 10th and 90th percentiles for each numeric feature. These statistics provide insights into the central tendency and spread of the data, and help us understand the range and skewness of each feature.\n",
    "  \n",
    "2. **Skewness and Kurtosis**: We examine skewness and kurtosis scores for each numeric variable to assess the shape and symmetry of the distributions:\n",
    "   - **Skewness** helps us identify any asymmetry in the data distribution, where positive skew indicates a right skew and negative skew indicates a left skew.\n",
    "   - **Kurtosis** gives insight into the \"tailedness\" of the distribution, where high kurtosis values may indicate the presence of outliers.\n",
    "\n",
    "3. **Histograms**: We plot histograms for each numeric feature to visually inspect their distributions. This helps us quickly identify if any features are skewed, contain outliers, or exhibit multimodal distributions.\n",
    "\n",
    "**The results of our EDA for numeric features are displayed below.**\n"
   ]
  },
  {
   "cell_type": "code",
   "execution_count": 22,
   "metadata": {
    "colab": {
     "base_uri": "https://localhost:8080/",
     "height": 407
    },
    "id": "5j1UdJae79Do",
    "outputId": "e9be0827-e6c7-4fbf-e4ce-1bb2ed974b1c"
   },
   "outputs": [
    {
     "name": "stdout",
     "output_type": "stream",
     "text": [
      "Descriptive Statistics:\n"
     ]
    },
    {
     "data": {
      "text/html": [
       "<div>\n",
       "<style scoped>\n",
       "    .dataframe tbody tr th:only-of-type {\n",
       "        vertical-align: middle;\n",
       "    }\n",
       "\n",
       "    .dataframe tbody tr th {\n",
       "        vertical-align: top;\n",
       "    }\n",
       "\n",
       "    .dataframe thead th {\n",
       "        text-align: right;\n",
       "    }\n",
       "</style>\n",
       "<table border=\"1\" class=\"dataframe\">\n",
       "  <thead>\n",
       "    <tr style=\"text-align: right;\">\n",
       "      <th></th>\n",
       "      <th>CreditScore</th>\n",
       "      <th>Age</th>\n",
       "      <th>Tenure</th>\n",
       "      <th>Balance</th>\n",
       "      <th>NumOfProducts</th>\n",
       "      <th>EstimatedSalary</th>\n",
       "    </tr>\n",
       "  </thead>\n",
       "  <tbody>\n",
       "    <tr>\n",
       "      <th>count</th>\n",
       "      <td>10000.00</td>\n",
       "      <td>10000.00</td>\n",
       "      <td>10000.00</td>\n",
       "      <td>10000.00</td>\n",
       "      <td>10000.00</td>\n",
       "      <td>10000.00</td>\n",
       "    </tr>\n",
       "    <tr>\n",
       "      <th>mean</th>\n",
       "      <td>650.53</td>\n",
       "      <td>38.92</td>\n",
       "      <td>5.01</td>\n",
       "      <td>76485.89</td>\n",
       "      <td>1.53</td>\n",
       "      <td>100090.24</td>\n",
       "    </tr>\n",
       "    <tr>\n",
       "      <th>std</th>\n",
       "      <td>96.65</td>\n",
       "      <td>10.49</td>\n",
       "      <td>2.89</td>\n",
       "      <td>62397.41</td>\n",
       "      <td>0.58</td>\n",
       "      <td>57510.49</td>\n",
       "    </tr>\n",
       "    <tr>\n",
       "      <th>min</th>\n",
       "      <td>350.00</td>\n",
       "      <td>18.00</td>\n",
       "      <td>0.00</td>\n",
       "      <td>0.00</td>\n",
       "      <td>1.00</td>\n",
       "      <td>11.58</td>\n",
       "    </tr>\n",
       "    <tr>\n",
       "      <th>10%</th>\n",
       "      <td>521.00</td>\n",
       "      <td>27.00</td>\n",
       "      <td>1.00</td>\n",
       "      <td>0.00</td>\n",
       "      <td>1.00</td>\n",
       "      <td>20273.58</td>\n",
       "    </tr>\n",
       "    <tr>\n",
       "      <th>25%</th>\n",
       "      <td>584.00</td>\n",
       "      <td>32.00</td>\n",
       "      <td>3.00</td>\n",
       "      <td>0.00</td>\n",
       "      <td>1.00</td>\n",
       "      <td>51002.11</td>\n",
       "    </tr>\n",
       "    <tr>\n",
       "      <th>50%</th>\n",
       "      <td>652.00</td>\n",
       "      <td>37.00</td>\n",
       "      <td>5.00</td>\n",
       "      <td>97198.54</td>\n",
       "      <td>1.00</td>\n",
       "      <td>100193.92</td>\n",
       "    </tr>\n",
       "    <tr>\n",
       "      <th>75%</th>\n",
       "      <td>718.00</td>\n",
       "      <td>44.00</td>\n",
       "      <td>7.00</td>\n",
       "      <td>127644.24</td>\n",
       "      <td>2.00</td>\n",
       "      <td>149388.25</td>\n",
       "    </tr>\n",
       "    <tr>\n",
       "      <th>90%</th>\n",
       "      <td>778.00</td>\n",
       "      <td>53.00</td>\n",
       "      <td>9.00</td>\n",
       "      <td>149244.79</td>\n",
       "      <td>2.00</td>\n",
       "      <td>179674.70</td>\n",
       "    </tr>\n",
       "    <tr>\n",
       "      <th>max</th>\n",
       "      <td>850.00</td>\n",
       "      <td>92.00</td>\n",
       "      <td>10.00</td>\n",
       "      <td>250898.09</td>\n",
       "      <td>4.00</td>\n",
       "      <td>199992.48</td>\n",
       "    </tr>\n",
       "    <tr>\n",
       "      <th>cv%</th>\n",
       "      <td>15.00</td>\n",
       "      <td>27.00</td>\n",
       "      <td>58.00</td>\n",
       "      <td>82.00</td>\n",
       "      <td>38.00</td>\n",
       "      <td>57.00</td>\n",
       "    </tr>\n",
       "  </tbody>\n",
       "</table>\n",
       "</div>"
      ],
      "text/plain": [
       "       CreditScore       Age    Tenure    Balance  NumOfProducts  \\\n",
       "count     10000.00  10000.00  10000.00   10000.00       10000.00   \n",
       "mean        650.53     38.92      5.01   76485.89           1.53   \n",
       "std          96.65     10.49      2.89   62397.41           0.58   \n",
       "min         350.00     18.00      0.00       0.00           1.00   \n",
       "10%         521.00     27.00      1.00       0.00           1.00   \n",
       "25%         584.00     32.00      3.00       0.00           1.00   \n",
       "50%         652.00     37.00      5.00   97198.54           1.00   \n",
       "75%         718.00     44.00      7.00  127644.24           2.00   \n",
       "90%         778.00     53.00      9.00  149244.79           2.00   \n",
       "max         850.00     92.00     10.00  250898.09           4.00   \n",
       "cv%          15.00     27.00     58.00      82.00          38.00   \n",
       "\n",
       "       EstimatedSalary  \n",
       "count         10000.00  \n",
       "mean         100090.24  \n",
       "std           57510.49  \n",
       "min              11.58  \n",
       "10%           20273.58  \n",
       "25%           51002.11  \n",
       "50%          100193.92  \n",
       "75%          149388.25  \n",
       "90%          179674.70  \n",
       "max          199992.48  \n",
       "cv%              57.00  "
      ]
     },
     "execution_count": 22,
     "metadata": {},
     "output_type": "execute_result"
    }
   ],
   "source": [
    "# Step1. Descriptive Statistics\n",
    "\n",
    "# Calculate descriptive statistics with specified percentiles and add mode and CV\n",
    "descriptive_stats = numeric_features.describe(percentiles=[.1, .25, .5, .75, .9]).round(2)\n",
    "\n",
    "# Calculate coefficient of variation (CV)\n",
    "cv_values = (numeric_features.std() / numeric_features.mean()).round(2) * 100  # CV in percentage\n",
    "cv_values.name = 'cv%'\n",
    "\n",
    "# Concatenate the mode and CV rows with the descriptive statistics\n",
    "descriptive_stats = pd.concat([descriptive_stats, cv_values.to_frame().T])\n",
    "\n",
    "print(\"Descriptive Statistics:\")\n",
    "descriptive_stats"
   ]
  },
  {
   "cell_type": "markdown",
   "metadata": {
    "id": "TJQAw6lGRKhJ"
   },
   "source": [
    "**Guidelines for CV = (SD/Mean)*100%**:\n",
    "* Low Dispersion: SD is less than 25% of the mean\n",
    "* Moderate Dispersion: SD is 25%-99% of the mean\n",
    "* High Dispersion: SD is 100%+ of the mean"
   ]
  },
  {
   "cell_type": "code",
   "execution_count": 24,
   "metadata": {
    "colab": {
     "base_uri": "https://localhost:8080/"
    },
    "id": "N3B2B6gSwfXB",
    "outputId": "1c2705d3-ca35-4d71-8fd1-6ed503f87d01"
   },
   "outputs": [
    {
     "name": "stdout",
     "output_type": "stream",
     "text": [
      "\n",
      "Skewness:\n",
      "CreditScore       -0.072\n",
      "Age                1.011\n",
      "Tenure             0.011\n",
      "Balance           -0.141\n",
      "NumOfProducts      0.746\n",
      "EstimatedSalary    0.002\n",
      "dtype: float64\n",
      "\n",
      "Kurtosis:\n",
      "CreditScore       -0.426\n",
      "Age                1.395\n",
      "Tenure            -1.165\n",
      "Balance           -1.489\n",
      "NumOfProducts      0.583\n",
      "EstimatedSalary   -1.182\n",
      "dtype: float64\n"
     ]
    }
   ],
   "source": [
    "# Step2. Skewness and Kurtosis\n",
    "\n",
    "# Skewness and Kurtosis scores\n",
    "skewness = numeric_features.skew().round(3)\n",
    "kurtosis = numeric_features.kurt().round(3)\n",
    "\n",
    "# Display skewness and kurtosis scores\n",
    "print(\"\\nSkewness:\")\n",
    "print(skewness)\n",
    "print(\"\\nKurtosis:\")\n",
    "print(kurtosis)"
   ]
  },
  {
   "cell_type": "markdown",
   "metadata": {
    "id": "BIHpDcghVl1E"
   },
   "source": [
    "**Skewness** measures a distribution's asymmetry:\n",
    "* **Negative (-1 or less)**: Left tail longer, mass on right\n",
    "* **Symmetrical (-1 to +1)**: Fairly balanced distribution\n",
    "* **Positive (+1 or more)**: Right tail longer, mass on left\n",
    "\n",
    "Distributions with skewness beyond ±2 are considered highly skewed.\n",
    "\n",
    "\n",
    "**Kurtosis** measures the \"tailedness\" of a distribution:\n",
    "* **Low/Negative**: Flatter peak, lighter tails (platykurtic)\n",
    "* **Normal (-7 to +7)**: Roughly normal distribution shape\n",
    "* **High/Positive**: Sharper peak, heavier tails (leptokurtic)\n",
    "\n",
    "Values beyond ±7 indicate significant deviation from normality."
   ]
  },
  {
   "cell_type": "code",
   "execution_count": 26,
   "metadata": {
    "colab": {
     "base_uri": "https://localhost:8080/",
     "height": 854
    },
    "id": "1eFXzyynwjV2",
    "outputId": "1fd21e4d-6612-4949-f1fa-0024e3f2389a"
   },
   "outputs": [
    {
     "data": {
      "image/png": "[encoded data removed]",
      "text/plain": [
       "<Figure size 1000x1000 with 6 Axes>"
      ]
     },
     "metadata": {},
     "output_type": "display_data"
    }
   ],
   "source": [
    "# Step3. Draw histograms\n",
    "\n",
    "# A single plot of Histograms\n",
    "numeric_features.hist(figsize=(10, 10))\n",
    "plt.show()"
   ]
  },
  {
   "cell_type": "markdown",
   "metadata": {
    "id": "niLft5_zwOwv"
   },
   "source": [
    "##Explain descriptive statistics insights\n",
    "\n",
    "\n",
    "  **CreditScore**:\n",
    "* The variability is low (CV = 15%), suggesting that most CreditScore values\n",
    "are close to the mean (650.53).\n",
    "* The distribution can be considered approximately normal, as the skewness (-0.072) and kurtosis (-0.426) values are close to zero, indicating slight left skewness and a relatively flat distribution.\n",
    "* This suggests that CreditScore values are fairly symmetrical and evenly spread around the mean.\n",
    "\n",
    "**Age**:\n",
    "* The variability is moderate (CV = 27%), indicating a diverse range of ages among the customers.\n",
    "* The skewness (1.01) suggests a significant right-skewed distribution, implying that more customers are younger, with the median age (37) being lower than the mean (38.92). This means that over half of the customers are younger than the mean age.\n",
    "* The right skew indicates that while most customers are younger, there are a few older individuals who increase the average age.\n",
    "\n",
    "\n",
    "**Balance**:\n",
    "* The coefficient of variation is quite high (CV = 82%), indicating substantial variability in customers' balances. This suggests a wide range of balances, with some customers having balances far above or below the average.\n",
    "* The skewness (-0.141) and kurtosis (-1.489) do not provide significant insights on their own, but the percentiles reveal that over 25% of customers have a zero balance.\n",
    "* The bar chart suggests that Balance could potentially be turned into a categorical feature (e.g., zero balance = 0, non-zero balance = 1), as this may reveal significant relationships with other variables such as HasCrCard and IsActiveMember.\n",
    "\n",
    "\n",
    "**NumOfProducts**:\n",
    "* Low variability (CV = 38%), suggesting customers generally have a similar number of products.  \n",
    "* Customers typically have a limited number of products, and the likelihood of holding more products decreases as the number increases. Most customers have 1-2 products, sharp decline in 3-4 product usag.\n",
    "\n",
    "**EstimatedSalary & Tenure**:\n",
    "* High variability (CV = 57%, 58%), indicating a wide range of salaries/Tenure in the dataset.\n",
    "* Histograms show a uniform distribution of salaries. Each salary range contains approximately the same number of data points - a pattern that's uncommon in real-world salary data where we typically see right-skewed distributions. This uniform pattern suggests synthetic or simulated data."
   ]
  },
  {
   "cell_type": "markdown",
   "metadata": {
    "id": "EpWcWMtMZRZr"
   },
   "source": [
    "##6. Exploratory Data Analysis (EDA) for Categorical Features\n",
    "## Steps in Our EDA Process:\n",
    "\n",
    "1. **Value Counts**: We group each distinct value in the categorical features and calculate their frequencies. This helps to understand the distribution of categories. And using a loop with f-strings to display the results in a formatted way.\n",
    "\n",
    "2. **Creating Bar Chart**: We use the value_counts results to create bar charts, making it easier to visualize and observe the distribution of the data. This step provides a clear visual representation of how each category is distributed across the dataset.\n",
    "\n",
    "\n",
    "**The results of our EDA for categorical features are displayed below.**"
   ]
  },
  {
   "cell_type": "code",
   "execution_count": 29,
   "metadata": {
    "colab": {
     "base_uri": "https://localhost:8080/"
    },
    "id": "Wlcpf-VtW72e",
    "outputId": "cbd8f16f-5890-4cba-d3a3-ba582073333c"
   },
   "outputs": [
    {
     "name": "stdout",
     "output_type": "stream",
     "text": [
      "Category:Geography\n",
      "France     5014\n",
      "Germany    2509\n",
      "Spain      2477\n",
      "Name: count, dtype: int64\n",
      "\n",
      "Category:Gender\n",
      "Female    4543\n",
      "Male      5457\n",
      "Name: count, dtype: int64\n",
      "\n",
      "Category:HasCrCard\n",
      "0    2945\n",
      "1    7055\n",
      "Name: count, dtype: int64\n",
      "\n",
      "Category:IsActiveMember\n",
      "0    4849\n",
      "1    5151\n",
      "Name: count, dtype: int64\n",
      "\n",
      "Category:Exited\n",
      "0    7963\n",
      "1    2037\n",
      "Name: count, dtype: int64\n",
      "\n"
     ]
    }
   ],
   "source": [
    "for cat in categorical_features.columns:\n",
    "    print(f\"Category:{categorical_features[cat].value_counts().sort_index()}\\n\")"
   ]
  },
  {
   "cell_type": "code",
   "execution_count": 30,
   "metadata": {
    "colab": {
     "base_uri": "https://localhost:8080/",
     "height": 1000
    },
    "id": "okaeqijbZdMD",
    "outputId": "6672ec1b-eeba-4edc-e418-492a6b2acf87"
   },
   "outputs": [
    {
     "data": {
      "image/png": "[encoded data removed]",
      "text/plain": [
       "<Figure size 500x300 with 1 Axes>"
      ]
     },
     "metadata": {},
     "output_type": "display_data"
    },
    {
     "data": {
      "image/png": "[encoded data removed]",
      "text/plain": [
       "<Figure size 500x300 with 1 Axes>"
      ]
     },
     "metadata": {},
     "output_type": "display_data"
    },
    {
     "data": {
      "image/png": "[encoded data removed]",
      "text/plain": [
       "<Figure size 500x300 with 1 Axes>"
      ]
     },
     "metadata": {},
     "output_type": "display_data"
    },
    {
     "data": {
      "image/png": "[encoded data removed]",
      "text/plain": [
       "<Figure size 500x300 with 1 Axes>"
      ]
     },
     "metadata": {},
     "output_type": "display_data"
    },
    {
     "data": {
      "image/png": "[encoded data removed]",
      "text/plain": [
       "<Figure size 500x300 with 1 Axes>"
      ]
     },
     "metadata": {},
     "output_type": "display_data"
    }
   ],
   "source": [
    "for category in categorical_features.columns:\n",
    "    plt.figure(figsize=(5, 3))  # Set the figure size here\n",
    "    categorical_features[category].value_counts().sort_index().plot(kind='bar')\n",
    "    plt.title(f\"Distribution of {category}\")\n",
    "    plt.xlabel(category)\n",
    "    plt.ylabel(\"Count\")\n",
    "    plt.xticks(rotation=0)\n",
    "    plt.show()\n",
    "\n"
   ]
  },
  {
   "cell_type": "markdown",
   "metadata": {
    "id": "desYT3nHFPJb"
   },
   "source": [
    "\n",
    "**Overall**, the data shows a higher concentration of customers from France, a balanced gender distribution, a majority who have credit cards, a fairly even split in active membership, and a predominant tendency of customers to stay with the company.\n",
    "1. **Geography:** Most customers are from France, followed by Germany and then Spain, indicating a higher representation from France.\n",
    "2. **Gender:** The gender distribution is fairly balanced, with slightly more male customers than female customers.\n",
    "3. **HasCard:** A majority of customers have a credit card, with a smaller portion of customers without one.\n",
    "4. **IsActiveMember:** The distribution of active and inactive members is relatively balanced, with only a slight difference between active and inactive customers.\n",
    "5. **Excited:** The majority of customers have not exited, with a smaller portion who have exited, showing that most customers remain with the company.\n",
    "\n",
    "\n",
    "\n",
    "\n",
    "\n",
    "\n",
    "\n",
    "\n",
    "\n",
    "\n"
   ]
  },
  {
   "cell_type": "markdown",
   "metadata": {
    "id": "RtrWaAXVDwML"
   },
   "source": [
    "##7. DataFrame visualizations\n",
    "\n",
    "We utilize the Matplotlib library in Python to create various visualization plots, enabling clear and effective presentation of our data observations. Through these visual representations, we can better understand and communicate patterns in our customer churn analysis.\n",
    "\n",
    "1. **Age by Exited Box Plot**: A box plot for Age visualizes the distribution of customer ages, showing median, quartiles, and outliers to help identify key age-based patterns for targeted marketing strategies.\n",
    "\n",
    "2. **Scatter Chart**: Scatter plot will help you observe the relationship between the CreditScore and Balance of bank customers, making it easier to spot trends or correlations.\n",
    "\n",
    "3. **Pie Chart**: Using a pie chart for customer Geography means visualizing how customers are distributed across different geographic regions as a proportion of the total customer base."
   ]
  },
  {
   "cell_type": "code",
   "execution_count": 33,
   "metadata": {
    "colab": {
     "base_uri": "https://localhost:8080/",
     "height": 597
    },
    "id": "xpoy3fOZ9g9p",
    "outputId": "48626170-d841-48c6-9419-90e7ff392b55"
   },
   "outputs": [
    {
     "name": "stderr",
     "output_type": "stream",
     "text": [
      "/var/folders/dw/d5lslwns7d7_2xfqkh_nd27w0000gn/T/ipykernel_59517/686590160.py:8: FutureWarning: \n",
      "\n",
      "Passing `palette` without assigning `hue` is deprecated and will be removed in v0.14.0. Assign the `x` variable to `hue` and set `legend=False` for the same effect.\n",
      "\n",
      "  sns.boxplot(x='Exited', y='Age', data=df, palette=\"Blues\")\n"
     ]
    },
    {
     "data": {
      "image/png": "[encoded data removed]",
      "text/plain": [
       "<Figure size 700x500 with 1 Axes>"
      ]
     },
     "metadata": {},
     "output_type": "display_data"
    }
   ],
   "source": [
    "# Instead of explore Age boxplot alone. I think we can do boxplot between Age and by Excited  determine if age impacts customer churn.\n",
    "# For example, you may find that younger or older customers are more likely to leave.\n",
    "import seaborn as sns\n",
    "import matplotlib.pyplot as plt\n",
    "\n",
    "# Assuming your DataFrame is named df\n",
    "plt.figure(figsize=(7, 5))\n",
    "sns.boxplot(x='Exited', y='Age', data=df, palette=\"Blues\")\n",
    "plt.title(\"Age by Exited\")\n",
    "plt.xlabel(\"Exited\")\n",
    "plt.ylabel(\"Age\")\n",
    "plt.show()\n"
   ]
  },
  {
   "cell_type": "markdown",
   "metadata": {
    "id": "5__DS2eiDXS5"
   },
   "source": [
    "1. Older customers tend to exit more: The median age of those who exited is higher, suggesting that older customers are more likely to leave.\n",
    "2. Younger customers are more likely to stay: The lower age distribution for those who stayed indicates higher retention among younger customers.\n",
    "3. Consistent exit pattern among older customers: There are fewer age outliers among those who exited, indicating a more stable trend of exits among older ages.\n",
    "**Conclude**: Age appears to be a significant factor in customer churn, with older customers showing a higher likelihood of leaving.\n"
   ]
  },
  {
   "cell_type": "code",
   "execution_count": 35,
   "metadata": {
    "id": "lNPyGcjlS3fK"
   },
   "outputs": [],
   "source": [
    "import matplotlib.pyplot as plt\n",
    "\n",
    "#Change the plot style\n",
    "plt.style.available\n",
    "plt.style.use('ggplot')"
   ]
  },
  {
   "cell_type": "code",
   "execution_count": 36,
   "metadata": {
    "colab": {
     "base_uri": "https://localhost:8080/",
     "height": 492
    },
    "id": "dnkR2be-Q1Yh",
    "outputId": "4612b333-eb14-4667-8bc0-62f1fd9b7674"
   },
   "outputs": [
    {
     "data": {
      "image/png": "[encoded data removed]",
      "text/plain": [
       "<Figure size 700x500 with 1 Axes>"
      ]
     },
     "metadata": {},
     "output_type": "display_data"
    }
   ],
   "source": [
    "df_selected.plot.scatter(y='Balance', x='CreditScore', figsize=(7, 5),c ='green')\n",
    "plt.title('Balance vs CreditScore')\n",
    "plt.xlabel('CreditScore')\n",
    "plt.ylabel('Balance')\n",
    "plt.show()"
   ]
  },
  {
   "cell_type": "markdown",
   "metadata": {
    "id": "1gSFbZNkMLkG"
   },
   "source": [
    "There is no obvious trend or linear relationship between Balance and CreditScore. The points are scattered broadly across the plot without a discernible pattern, indicating that a customer’s balance does not appear to be strongly related to their credit score."
   ]
  },
  {
   "cell_type": "code",
   "execution_count": 38,
   "metadata": {
    "colab": {
     "base_uri": "https://localhost:8080/",
     "height": 429
    },
    "id": "9noBfjvqDzhb",
    "outputId": "f5c703a9-9e60-432a-8a57-ad58b46407fd"
   },
   "outputs": [
    {
     "data": {
      "image/png": "[encoded data removed]",
      "text/plain": [
       "<Figure size 640x480 with 1 Axes>"
      ]
     },
     "metadata": {},
     "output_type": "display_data"
    }
   ],
   "source": [
    "categorical_features['Geography'].value_counts().plot(kind='pie', autopct='%1.1f%%',  startangle=270)\n",
    "plt.title(\"Geography Distribution\")\n",
    "plt.show()"
   ]
  },
  {
   "cell_type": "markdown",
   "metadata": {
    "id": "-TY3gnrLG8mm"
   },
   "source": [
    "\n",
    "1.   France represents the largest portion of the customer base, making up 50.1% of the total.\n",
    "2.  Germany accounts for 25.1% of the customers.\n",
    "3. Spain comprises 24.8% of the customers.\n",
    "**Conclude**: This indicates that half of the customers are from France, with Germany and Spain contributing almost equally to the remaining half. This distribution suggests that France is the dominant market in this dataset, while Germany and Spain have similar representation levels."
   ]
  },
  {
   "cell_type": "markdown",
   "metadata": {
    "id": "Gd0huEVdD0QT"
   },
   "source": [
    "##8. Overall summary\n",
    "\n",
    "This project analyzes customer churn in banking, focusing on identifying factors that influence customers to leave. Using a Kaggle dataset, we examine the \"Exited\" variable (0=retained, 1=churned) to develop predictive models for customer retention.\n",
    "\n",
    "Key Findings from EDA:\n",
    "\n",
    " - **Credit Score**: Normal distribution with low variability (CV=15%), slightly left-skewed.\n",
    "\n",
    " - **Age**: Right-skewed (skewness=1.01), moderate variability (CV=27%), average age 38.92.\n",
    "\n",
    " - **Balance**: High variability (CV=82%), 25% showing zero balance.\n",
    "\n",
    " - **Products**: Most customers have 1-2 products, sharp decline in 3-4 product usage.\n",
    "\n",
    " - **Salary & Tenure**: High variability (CV≈57-58%), uniform distribution suggesting synthetic data.\n",
    "\n",
    " - **IsActiveMember**: 48.49% of customers are inactive, suggesting potential engagement issues that may influence churn.\n",
    "\n",
    " - **HasCrCard**: 70.55% possess the bank's credit card, indicating strong product adoption.\n",
    "\n",
    "\n",
    "The project demonstrates how predictive analytics can help banks develop targeted retention strategies, as keeping existing customers proves more cost-effective than acquiring new ones."
   ]
  },
  {
   "cell_type": "markdown",
   "metadata": {
    "id": "eeiqOYXsvhLV"
   },
   "source": [
    "# LAB 3\n",
    "## Introduction to Customer Churn Analysis in the Banking Industry\n",
    "\n",
    "In today's competitive banking sector, understanding customer behavior and reducing churn is crucial. Retaining clients is more cost-effective than acquiring new ones, making churn reduction a priority. By analyzing factors influencing customer departures, banks can implement strategies to boost loyalty.\n",
    "\n",
    "This dataset represents bank customers with demographic, financial, and behavioral data. Each row details attributes like age, credit score, balance, and products owned, aiming to predict churn, indicated by the `Exited` column (1 for churned, 0 for retained).\n"
   ]
  },
  {
   "cell_type": "markdown",
   "metadata": {
    "id": "GWIXIOtTjEwG"
   },
   "source": [
    "## Step 1: Imports"
   ]
  },
  {
   "cell_type": "code",
   "execution_count": 43,
   "metadata": {
    "colab": {
     "base_uri": "https://localhost:8080/",
     "height": 374
    },
    "id": "NrxU_yfs1A8t",
    "outputId": "8b6c7c48-9c00-4973-a37a-bb5f5d888486"
   },
   "outputs": [
    {
     "data": {
      "text/html": [
       "<div>\n",
       "<style scoped>\n",
       "    .dataframe tbody tr th:only-of-type {\n",
       "        vertical-align: middle;\n",
       "    }\n",
       "\n",
       "    .dataframe tbody tr th {\n",
       "        vertical-align: top;\n",
       "    }\n",
       "\n",
       "    .dataframe thead th {\n",
       "        text-align: right;\n",
       "    }\n",
       "</style>\n",
       "<table border=\"1\" class=\"dataframe\">\n",
       "  <thead>\n",
       "    <tr style=\"text-align: right;\">\n",
       "      <th></th>\n",
       "      <th>RowNumber</th>\n",
       "      <th>Surname</th>\n",
       "      <th>CreditScore</th>\n",
       "      <th>Geography</th>\n",
       "      <th>Gender</th>\n",
       "      <th>Age</th>\n",
       "      <th>Tenure</th>\n",
       "      <th>Balance</th>\n",
       "      <th>NumOfProducts</th>\n",
       "      <th>HasCrCard</th>\n",
       "      <th>IsActiveMember</th>\n",
       "      <th>EstimatedSalary</th>\n",
       "      <th>Exited</th>\n",
       "    </tr>\n",
       "    <tr>\n",
       "      <th>CustomerId</th>\n",
       "      <th></th>\n",
       "      <th></th>\n",
       "      <th></th>\n",
       "      <th></th>\n",
       "      <th></th>\n",
       "      <th></th>\n",
       "      <th></th>\n",
       "      <th></th>\n",
       "      <th></th>\n",
       "      <th></th>\n",
       "      <th></th>\n",
       "      <th></th>\n",
       "      <th></th>\n",
       "    </tr>\n",
       "  </thead>\n",
       "  <tbody>\n",
       "    <tr>\n",
       "      <th>15634602</th>\n",
       "      <td>1</td>\n",
       "      <td>Hargrave</td>\n",
       "      <td>619</td>\n",
       "      <td>France</td>\n",
       "      <td>Female</td>\n",
       "      <td>42.0</td>\n",
       "      <td>2</td>\n",
       "      <td>0.00</td>\n",
       "      <td>1</td>\n",
       "      <td>1</td>\n",
       "      <td>1</td>\n",
       "      <td>101348.88</td>\n",
       "      <td>1</td>\n",
       "    </tr>\n",
       "    <tr>\n",
       "      <th>15647311</th>\n",
       "      <td>2</td>\n",
       "      <td>Hill</td>\n",
       "      <td>608</td>\n",
       "      <td>Spain</td>\n",
       "      <td>Female</td>\n",
       "      <td>41.0</td>\n",
       "      <td>1</td>\n",
       "      <td>83807.86</td>\n",
       "      <td>1</td>\n",
       "      <td>0</td>\n",
       "      <td>1</td>\n",
       "      <td>112542.58</td>\n",
       "      <td>0</td>\n",
       "    </tr>\n",
       "    <tr>\n",
       "      <th>15619304</th>\n",
       "      <td>3</td>\n",
       "      <td>Onio</td>\n",
       "      <td>502</td>\n",
       "      <td>France</td>\n",
       "      <td>Female</td>\n",
       "      <td>42.0</td>\n",
       "      <td>8</td>\n",
       "      <td>159660.80</td>\n",
       "      <td>3</td>\n",
       "      <td>1</td>\n",
       "      <td>0</td>\n",
       "      <td>113931.57</td>\n",
       "      <td>1</td>\n",
       "    </tr>\n",
       "    <tr>\n",
       "      <th>15701354</th>\n",
       "      <td>4</td>\n",
       "      <td>Boni</td>\n",
       "      <td>699</td>\n",
       "      <td>France</td>\n",
       "      <td>Female</td>\n",
       "      <td>39.0</td>\n",
       "      <td>1</td>\n",
       "      <td>0.00</td>\n",
       "      <td>2</td>\n",
       "      <td>0</td>\n",
       "      <td>0</td>\n",
       "      <td>93826.63</td>\n",
       "      <td>0</td>\n",
       "    </tr>\n",
       "    <tr>\n",
       "      <th>15737888</th>\n",
       "      <td>5</td>\n",
       "      <td>Mitchell</td>\n",
       "      <td>850</td>\n",
       "      <td>Spain</td>\n",
       "      <td>Female</td>\n",
       "      <td>43.0</td>\n",
       "      <td>2</td>\n",
       "      <td>125510.82</td>\n",
       "      <td>1</td>\n",
       "      <td>1</td>\n",
       "      <td>1</td>\n",
       "      <td>79084.10</td>\n",
       "      <td>0</td>\n",
       "    </tr>\n",
       "  </tbody>\n",
       "</table>\n",
       "</div>"
      ],
      "text/plain": [
       "            RowNumber   Surname  CreditScore Geography  Gender   Age  Tenure  \\\n",
       "CustomerId                                                                     \n",
       "15634602            1  Hargrave          619    France  Female  42.0       2   \n",
       "15647311            2      Hill          608     Spain  Female  41.0       1   \n",
       "15619304            3      Onio          502    France  Female  42.0       8   \n",
       "15701354            4      Boni          699    France  Female  39.0       1   \n",
       "15737888            5  Mitchell          850     Spain  Female  43.0       2   \n",
       "\n",
       "              Balance  NumOfProducts  HasCrCard  IsActiveMember  \\\n",
       "CustomerId                                                        \n",
       "15634602         0.00              1          1               1   \n",
       "15647311     83807.86              1          0               1   \n",
       "15619304    159660.80              3          1               0   \n",
       "15701354         0.00              2          0               0   \n",
       "15737888    125510.82              1          1               1   \n",
       "\n",
       "            EstimatedSalary  Exited  \n",
       "CustomerId                           \n",
       "15634602          101348.88       1  \n",
       "15647311          112542.58       0  \n",
       "15619304          113931.57       1  \n",
       "15701354           93826.63       0  \n",
       "15737888           79084.10       0  "
      ]
     },
     "execution_count": 43,
     "metadata": {},
     "output_type": "execute_result"
    }
   ],
   "source": [
    "import pandas as pd\n",
    "import matplotlib.pyplot as plt\n",
    "import seaborn as sns\n",
    "from sklearn.linear_model import LinearRegression\n",
    "from statsmodels.stats.outliers_influence import variance_inflation_factor\n",
    "from statsmodels.tools.tools import add_constant\n",
    "\n",
    "df = pd.read_csv('Churn_Modelling_Updated.csv')\n",
    "df.set_index(\"CustomerId\", inplace= True)\n",
    "df.head()"
   ]
  },
  {
   "cell_type": "code",
   "execution_count": 44,
   "metadata": {
    "colab": {
     "base_uri": "https://localhost:8080/"
    },
    "id": "G1hSpje8nVqK",
    "outputId": "12778bbf-4da2-46b9-efcb-4bb8e6479760"
   },
   "outputs": [
    {
     "name": "stdout",
     "output_type": "stream",
     "text": [
      "<class 'pandas.core.frame.DataFrame'>\n",
      "Index: 10000 entries, 15634602 to 15628319\n",
      "Data columns (total 13 columns):\n",
      " #   Column           Non-Null Count  Dtype  \n",
      "---  ------           --------------  -----  \n",
      " 0   RowNumber        10000 non-null  int64  \n",
      " 1   Surname          10000 non-null  object \n",
      " 2   CreditScore      10000 non-null  int64  \n",
      " 3   Geography        10000 non-null  object \n",
      " 4   Gender           9913 non-null   object \n",
      " 5   Age              9883 non-null   float64\n",
      " 6   Tenure           10000 non-null  int64  \n",
      " 7   Balance          10000 non-null  float64\n",
      " 8   NumOfProducts    10000 non-null  int64  \n",
      " 9   HasCrCard        10000 non-null  int64  \n",
      " 10  IsActiveMember   10000 non-null  int64  \n",
      " 11  EstimatedSalary  10000 non-null  float64\n",
      " 12  Exited           10000 non-null  int64  \n",
      "dtypes: float64(3), int64(7), object(3)\n",
      "memory usage: 1.1+ MB\n"
     ]
    }
   ],
   "source": [
    "df.info()"
   ]
  },
  {
   "cell_type": "markdown",
   "metadata": {
    "id": "fZuaCL26v8mm"
   },
   "source": [
    "## Step 2: Dropping features\n",
    "\n",
    "We decided to drop the `RowNumber` and `Surname` columns because these columns are simply identifiers and cannot be transformed into useful features, such as dummy variables, and contribute to predicting the target variable and can be safely removed."
   ]
  },
  {
   "cell_type": "code",
   "execution_count": 46,
   "metadata": {
    "colab": {
     "base_uri": "https://localhost:8080/"
    },
    "id": "emU9XANNv1R1",
    "outputId": "d15982ad-ba04-4d99-9c8d-95c6494e0288"
   },
   "outputs": [
    {
     "name": "stdout",
     "output_type": "stream",
     "text": [
      "Numeric Features:\n",
      "            CreditScore   Age  Tenure    Balance  NumOfProducts  HasCrCard  \\\n",
      "CustomerId                                                                   \n",
      "15634602            619  42.0       2       0.00              1          1   \n",
      "15647311            608  41.0       1   83807.86              1          0   \n",
      "15619304            502  42.0       8  159660.80              3          1   \n",
      "15701354            699  39.0       1       0.00              2          0   \n",
      "15737888            850  43.0       2  125510.82              1          1   \n",
      "\n",
      "            IsActiveMember  EstimatedSalary  Exited  \n",
      "CustomerId                                           \n",
      "15634602                 1        101348.88       1  \n",
      "15647311                 1        112542.58       0  \n",
      "15619304                 0        113931.57       1  \n",
      "15701354                 0         93826.63       0  \n",
      "15737888                 1         79084.10       0  \n",
      "\n",
      "Categorical Features:\n",
      "           Geography  Gender\n",
      "CustomerId                  \n",
      "15634602      France  Female\n",
      "15647311       Spain  Female\n",
      "15619304      France  Female\n",
      "15701354      France  Female\n",
      "15737888       Spain  Female\n"
     ]
    }
   ],
   "source": [
    "# Excluding Unrelevant Characteristics\n",
    "df = df.drop(columns=[ 'RowNumber', 'Surname'])\n",
    "\n",
    "# Divided into numerical and categorical features.\n",
    "numeric_features = df.select_dtypes(include=['int64', 'float64'])\n",
    "categorical_features = df.select_dtypes(include=['object'])\n",
    "\n",
    "# Result\n",
    "print(\"Numeric Features:\")\n",
    "print(numeric_features.head())\n",
    "\n",
    "print(\"\\nCategorical Features:\")\n",
    "print(categorical_features.head())"
   ]
  },
  {
   "cell_type": "markdown",
   "metadata": {
    "id": "-J25hruDwVd2"
   },
   "source": [
    "## Step 3: Missing data\n",
    "First, counting the number of missing values for each column. There are two columns with missing data: `Age` (117 missing values, 1.17%) and `Gender` (87 missing values, 0.87%).\n",
    "\n",
    "For the `Age` column, we performed a cross-analysis by `Geography` and `CreditScore` and observed the distribution of Age. The distribution is approximately normal. Since the missing values account for less than 5%, we used simple imputation with the mean to fill in the missing values for `Age`.\n",
    "\n",
    "The `Gender` column, a categorical feature, has missing values constituting less than 1%. Given that regression or mean imputation is unsuitable for categorical data, we used the mode of the column to handle the missing values."
   ]
  },
  {
   "cell_type": "code",
   "execution_count": 48,
   "metadata": {
    "colab": {
     "base_uri": "https://localhost:8080/",
     "height": 390
    },
    "id": "HDqEaMgBwaMQ",
    "outputId": "66943bec-63a6-43f6-f56d-790487d09a83"
   },
   "outputs": [
    {
     "data": {
      "text/html": [
       "<div>\n",
       "<style scoped>\n",
       "    .dataframe tbody tr th:only-of-type {\n",
       "        vertical-align: middle;\n",
       "    }\n",
       "\n",
       "    .dataframe tbody tr th {\n",
       "        vertical-align: top;\n",
       "    }\n",
       "\n",
       "    .dataframe thead th {\n",
       "        text-align: right;\n",
       "    }\n",
       "</style>\n",
       "<table border=\"1\" class=\"dataframe\">\n",
       "  <thead>\n",
       "    <tr style=\"text-align: right;\">\n",
       "      <th></th>\n",
       "      <th>Missing Values</th>\n",
       "      <th>Percentage</th>\n",
       "    </tr>\n",
       "  </thead>\n",
       "  <tbody>\n",
       "    <tr>\n",
       "      <th>Age</th>\n",
       "      <td>117</td>\n",
       "      <td>1.17</td>\n",
       "    </tr>\n",
       "    <tr>\n",
       "      <th>Gender</th>\n",
       "      <td>87</td>\n",
       "      <td>0.87</td>\n",
       "    </tr>\n",
       "    <tr>\n",
       "      <th>CreditScore</th>\n",
       "      <td>0</td>\n",
       "      <td>0.00</td>\n",
       "    </tr>\n",
       "    <tr>\n",
       "      <th>Geography</th>\n",
       "      <td>0</td>\n",
       "      <td>0.00</td>\n",
       "    </tr>\n",
       "    <tr>\n",
       "      <th>Tenure</th>\n",
       "      <td>0</td>\n",
       "      <td>0.00</td>\n",
       "    </tr>\n",
       "    <tr>\n",
       "      <th>Balance</th>\n",
       "      <td>0</td>\n",
       "      <td>0.00</td>\n",
       "    </tr>\n",
       "    <tr>\n",
       "      <th>NumOfProducts</th>\n",
       "      <td>0</td>\n",
       "      <td>0.00</td>\n",
       "    </tr>\n",
       "    <tr>\n",
       "      <th>HasCrCard</th>\n",
       "      <td>0</td>\n",
       "      <td>0.00</td>\n",
       "    </tr>\n",
       "    <tr>\n",
       "      <th>IsActiveMember</th>\n",
       "      <td>0</td>\n",
       "      <td>0.00</td>\n",
       "    </tr>\n",
       "    <tr>\n",
       "      <th>EstimatedSalary</th>\n",
       "      <td>0</td>\n",
       "      <td>0.00</td>\n",
       "    </tr>\n",
       "    <tr>\n",
       "      <th>Exited</th>\n",
       "      <td>0</td>\n",
       "      <td>0.00</td>\n",
       "    </tr>\n",
       "  </tbody>\n",
       "</table>\n",
       "</div>"
      ],
      "text/plain": [
       "                 Missing Values  Percentage\n",
       "Age                         117        1.17\n",
       "Gender                       87        0.87\n",
       "CreditScore                   0        0.00\n",
       "Geography                     0        0.00\n",
       "Tenure                        0        0.00\n",
       "Balance                       0        0.00\n",
       "NumOfProducts                 0        0.00\n",
       "HasCrCard                     0        0.00\n",
       "IsActiveMember                0        0.00\n",
       "EstimatedSalary               0        0.00\n",
       "Exited                        0        0.00"
      ]
     },
     "execution_count": 48,
     "metadata": {},
     "output_type": "execute_result"
    }
   ],
   "source": [
    "# Count your missing cases:\n",
    "# Count of missing values per column\n",
    "missing_values = df.isnull().sum()\n",
    "\n",
    "# Percentage of missing values\n",
    "missing_percent = (missing_values / len(df)) * 100\n",
    "\n",
    "# Create a summary table\n",
    "missing_summary = pd.DataFrame({\n",
    "    'Missing Values': missing_values,\n",
    "    'Percentage': missing_percent\n",
    "}).sort_values(by='Percentage', ascending=False)\n",
    "\n",
    "# Display the summary table\n",
    "missing_summary\n"
   ]
  },
  {
   "cell_type": "code",
   "execution_count": 49,
   "metadata": {
    "colab": {
     "base_uri": "https://localhost:8080/",
     "height": 300
    },
    "id": "QkmrZ8URwhTb",
    "outputId": "4dc751f5-85e2-457b-ccd3-ce52e5f78d43"
   },
   "outputs": [
    {
     "data": {
      "text/plain": [
       "Age    Geography\n",
       "False  France       50.136598\n",
       "       Germany      25.113832\n",
       "       Spain        24.749570\n",
       "True   France       50.427350\n",
       "       Spain        26.495726\n",
       "       Germany      23.076923\n",
       "Name: proportion, dtype: float64"
      ]
     },
     "execution_count": 49,
     "metadata": {},
     "output_type": "execute_result"
    }
   ],
   "source": [
    "#Create a \"mask\" for missing values\n",
    "missing_mask = df['Age'].isnull()\n",
    "\n",
    "# Compare distributions of categorical feature (e.g., 'Education')\n",
    "geo_missing_comparison = df.groupby(missing_mask)['Geography'].value_counts(normalize=True) * 100\n",
    "\n",
    "# Display the comparison\n",
    "geo_missing_comparison"
   ]
  },
  {
   "cell_type": "code",
   "execution_count": 50,
   "metadata": {
    "colab": {
     "base_uri": "https://localhost:8080/",
     "height": 142
    },
    "id": "JelEestrwi6O",
    "outputId": "3ca38469-6ef0-470f-8542-844f76ee5303"
   },
   "outputs": [
    {
     "data": {
      "text/html": [
       "<div>\n",
       "<style scoped>\n",
       "    .dataframe tbody tr th:only-of-type {\n",
       "        vertical-align: middle;\n",
       "    }\n",
       "\n",
       "    .dataframe tbody tr th {\n",
       "        vertical-align: top;\n",
       "    }\n",
       "\n",
       "    .dataframe thead th {\n",
       "        text-align: right;\n",
       "    }\n",
       "</style>\n",
       "<table border=\"1\" class=\"dataframe\">\n",
       "  <thead>\n",
       "    <tr style=\"text-align: right;\">\n",
       "      <th></th>\n",
       "      <th>count</th>\n",
       "      <th>mean</th>\n",
       "      <th>std</th>\n",
       "      <th>min</th>\n",
       "      <th>25%</th>\n",
       "      <th>50%</th>\n",
       "      <th>75%</th>\n",
       "      <th>max</th>\n",
       "    </tr>\n",
       "    <tr>\n",
       "      <th>Age</th>\n",
       "      <th></th>\n",
       "      <th></th>\n",
       "      <th></th>\n",
       "      <th></th>\n",
       "      <th></th>\n",
       "      <th></th>\n",
       "      <th></th>\n",
       "      <th></th>\n",
       "    </tr>\n",
       "  </thead>\n",
       "  <tbody>\n",
       "    <tr>\n",
       "      <th>False</th>\n",
       "      <td>9883.0</td>\n",
       "      <td>650.496712</td>\n",
       "      <td>96.749158</td>\n",
       "      <td>350.0</td>\n",
       "      <td>584.0</td>\n",
       "      <td>652.0</td>\n",
       "      <td>718.0</td>\n",
       "      <td>850.0</td>\n",
       "    </tr>\n",
       "    <tr>\n",
       "      <th>True</th>\n",
       "      <td>117.0</td>\n",
       "      <td>653.239316</td>\n",
       "      <td>88.518520</td>\n",
       "      <td>465.0</td>\n",
       "      <td>585.0</td>\n",
       "      <td>648.0</td>\n",
       "      <td>707.0</td>\n",
       "      <td>850.0</td>\n",
       "    </tr>\n",
       "  </tbody>\n",
       "</table>\n",
       "</div>"
      ],
      "text/plain": [
       "        count        mean        std    min    25%    50%    75%    max\n",
       "Age                                                                    \n",
       "False  9883.0  650.496712  96.749158  350.0  584.0  652.0  718.0  850.0\n",
       "True    117.0  653.239316  88.518520  465.0  585.0  648.0  707.0  850.0"
      ]
     },
     "execution_count": 50,
     "metadata": {},
     "output_type": "execute_result"
    }
   ],
   "source": [
    "# Generate statistics table for missing and non-missing data\n",
    "credit_score_summary = df.groupby(missing_mask)['CreditScore'].describe()\n",
    "credit_score_summary"
   ]
  },
  {
   "cell_type": "code",
   "execution_count": 51,
   "metadata": {
    "colab": {
     "base_uri": "https://localhost:8080/"
    },
    "id": "CJ2LEZ6qwmWc",
    "outputId": "7e718307-0f5b-4ce4-d7cf-2ee33612976d"
   },
   "outputs": [
    {
     "data": {
      "image/png": "[encoded data removed]",
      "text/plain": [
       "<Figure size 600x400 with 1 Axes>"
      ]
     },
     "metadata": {},
     "output_type": "display_data"
    }
   ],
   "source": [
    "import matplotlib.pyplot as plt\n",
    "plt.figure(figsize=(6, 4))\n",
    "sns.boxplot(x=missing_mask, y=df['CreditScore'])\n",
    "plt.xlabel('Missing Age (True = Missing)')\n",
    "plt.ylabel('CreditScore')\n",
    "plt.title('CreditScore Distribution by Missing Age')\n",
    "plt.show()"
   ]
  },
  {
   "cell_type": "code",
   "execution_count": 52,
   "metadata": {
    "colab": {
     "base_uri": "https://localhost:8080/"
    },
    "id": "QBYjEB64wpxP",
    "outputId": "83cf5eca-e057-403e-8897-6b0072ed6fde"
   },
   "outputs": [
    {
     "data": {
      "image/png": "[encoded data removed]",
      "text/plain": [
       "<Figure size 600x500 with 1 Axes>"
      ]
     },
     "metadata": {},
     "output_type": "display_data"
    }
   ],
   "source": [
    "# Visualize missing data using a heatmap\n",
    "plt.figure(figsize=(6, 5))\n",
    "sns.heatmap(df.isnull(), cbar=False, cmap='viridis', yticklabels=False)\n",
    "plt.title('Heatmap of Missing Data')\n",
    "plt.xlabel('Variables')\n",
    "plt.ylabel('Observations')\n",
    "plt.show()"
   ]
  },
  {
   "cell_type": "code",
   "execution_count": 53,
   "metadata": {
    "colab": {
     "base_uri": "https://localhost:8080/"
    },
    "id": "f03p498rwtyd",
    "outputId": "dfae410e-9305-4d1c-b075-2095bcd4d5c1"
   },
   "outputs": [
    {
     "data": {
      "image/png": "[encoded data removed]",
      "text/plain": [
       "<Figure size 600x500 with 1 Axes>"
      ]
     },
     "metadata": {},
     "output_type": "display_data"
    }
   ],
   "source": [
    "# Sorting data\n",
    "\n",
    "sorted_df = df.sort_values(by=['Age', 'Gender'], na_position='first')\n",
    "\n",
    "# Heatmap of the sorted dataset\n",
    "plt.figure(figsize=(6, 5))\n",
    "sns.heatmap(sorted_df.isnull(), cbar=False, cmap='viridis', yticklabels=False)\n",
    "plt.title('Heatmap of Missing Data (Sorted by Age and Gender)')\n",
    "plt.xlabel('Variables')\n",
    "plt.ylabel('Observations')\n",
    "plt.show()"
   ]
  },
  {
   "cell_type": "markdown",
   "metadata": {
    "id": "tC9-2jUDwzd3"
   },
   "source": [
    "### **Imputatuon for missing value**\n"
   ]
  },
  {
   "cell_type": "code",
   "execution_count": 55,
   "metadata": {
    "colab": {
     "base_uri": "https://localhost:8080/"
    },
    "id": "gdKFKmAkw3uf",
    "outputId": "d33850e9-5786-4b2a-fc9e-a31fb5673630"
   },
   "outputs": [
    {
     "data": {
      "text/plain": [
       "Text(0.5, 1.0, 'Histogram of Age')"
      ]
     },
     "execution_count": 55,
     "metadata": {},
     "output_type": "execute_result"
    },
    {
     "data": {
      "image/png": "[encoded data removed]",
      "text/plain": [
       "<Figure size 640x480 with 1 Axes>"
      ]
     },
     "metadata": {},
     "output_type": "display_data"
    }
   ],
   "source": [
    "#Checking distribution of Age variables\n",
    "df['Age'].plot.hist(bins=5)\n",
    "plt.title('Histogram of Age')"
   ]
  },
  {
   "cell_type": "code",
   "execution_count": 56,
   "metadata": {
    "colab": {
     "base_uri": "https://localhost:8080/"
    },
    "id": "qSLa6GjdxBNV",
    "outputId": "147ad32c-673e-4a22-9133-d73eb0715b2c"
   },
   "outputs": [
    {
     "name": "stdout",
     "output_type": "stream",
     "text": [
      "Age - Skewness: 1.01, Kurtosis: 1.4\n"
     ]
    }
   ],
   "source": [
    "skew_age = df['Age'].skew().round(2)\n",
    "kurtosis_age = df['Age'].kurt().round(2)\n",
    "print(f\"Age - Skewness: {skew_age}, Kurtosis: {kurtosis_age}\")"
   ]
  },
  {
   "cell_type": "markdown",
   "metadata": {
    "id": "p4OtmQMa4GDz"
   },
   "source": [
    "- The `Age` variable shows moderate positive skewness (1.01) and light tails (kurtosis 1.4), indicating the distribution is not heavily skewed. Thus, handling missing values using the mean is appropriate and will preserve the overall structure of the data."
   ]
  },
  {
   "cell_type": "code",
   "execution_count": 58,
   "metadata": {
    "colab": {
     "base_uri": "https://localhost:8080/"
    },
    "id": "zbDZDoA5yZeb",
    "outputId": "dca284e6-a32e-4dc1-bf1f-b9bdc3f19196"
   },
   "outputs": [
    {
     "name": "stdout",
     "output_type": "stream",
     "text": [
      "Number of missing values in 'Age': 0\n"
     ]
    }
   ],
   "source": [
    "df['Age'] = df['Age'].fillna(df['Age'].mean())\n",
    "# Verify the imputation\n",
    "print(\"Number of missing values in 'Age':\", df['Age'].isnull().sum())"
   ]
  },
  {
   "cell_type": "markdown",
   "metadata": {
    "id": "auKuRPk3DBim"
   },
   "source": [
    "- We use simple imputation due to `Gender` is high importance of feature. Regression & Mean imputation are not eligible due to categorical feature.\n",
    "We use the mode in the clumn to fill the missing values."
   ]
  },
  {
   "cell_type": "code",
   "execution_count": 60,
   "metadata": {
    "colab": {
     "base_uri": "https://localhost:8080/"
    },
    "id": "g6fZkBkXy_PX",
    "outputId": "cea8e9b2-8aa1-4c2c-a1e7-96d3a3b14650"
   },
   "outputs": [
    {
     "name": "stdout",
     "output_type": "stream",
     "text": [
      "Number of missing values in 'Gender': 0\n"
     ]
    }
   ],
   "source": [
    "df['Gender'] = df['Gender'].fillna(df['Gender'].mode()[0])\n",
    "print(\"Number of missing values in 'Gender':\", df['Gender'].isnull().sum())"
   ]
  },
  {
   "cell_type": "markdown",
   "metadata": {
    "id": "pTOq0aptHDnK"
   },
   "source": [
    "## Step 4: Correlation Matrix\n",
    "\n",
    "We calculate the correlation matrix for all numerical features to evaluate pairwise relationships and create a heatmap using Seaborn to visualize these correlations. This helps identify potential multicollinearity by highlighting strong positive or negative relationships between variables."
   ]
  },
  {
   "cell_type": "code",
   "execution_count": 62,
   "metadata": {
    "colab": {
     "base_uri": "https://localhost:8080/",
     "height": 799
    },
    "id": "eV9o7TP-X1MU",
    "outputId": "ed597eea-c134-4cbf-e3ef-db67ef23ad83"
   },
   "outputs": [
    {
     "data": {
      "image/png": "[encoded data removed]",
      "text/plain": [
       "<Figure size 1200x800 with 2 Axes>"
      ]
     },
     "metadata": {},
     "output_type": "display_data"
    }
   ],
   "source": [
    "# Import required libraries\n",
    "import seaborn as sns\n",
    "import matplotlib.pyplot as plt\n",
    "\n",
    "# Compute the correlation matrix for numerical features\n",
    "correlation_matrix = numeric_features.corr()\n",
    "\n",
    "# Create a correlation heatmap using Seaborn\n",
    "plt.figure(figsize=(12, 8))  # Set figure size\n",
    "sns.heatmap(\n",
    "    correlation_matrix,\n",
    "    annot=True,           # Display correlation coefficients\n",
    "    fmt=\".2f\",            # Format numbers to 2 decimal places\n",
    "    cmap=\"coolwarm\",      # Use the coolwarm color palette\n",
    "    cbar=True,            # Include a color bar\n",
    "    square=True           # Make cells square-shaped\n",
    ")\n",
    "plt.title(\"Correlation Matrix Heatmap\")  # Add a title\n",
    "plt.show()"
   ]
  },
  {
   "cell_type": "markdown",
   "metadata": {
    "id": "ntKEdIpsHIXk"
   },
   "source": [
    "- The correlation heatmap shows us that most features have very low correlation coefficients, indicating minimal linear relationships among them.\n",
    "\n",
    "- Notable observations include a moderate positive correlation (0.29) between `Age` and `Exited`, suggesting older customers are slightly more likely to exit.\n",
    "\n",
    "- Additionally, `Balance` shows a mild positive correlation (0.12) with `Exited`. No variables exhibit high correlations (>0.8), indicating a low risk of multicollinearity, making the dataset suitable for modeling without further adjustments."
   ]
  },
  {
   "cell_type": "markdown",
   "metadata": {
    "id": "VVYfFzIQzj5r"
   },
   "source": [
    "## Step 5: Remove Outliers\n",
    "We create box plots to examine numeric variables for outliers (excluding dummy variables like `HasCrCard`, `Exited`, and `categorical data`) and counting the number of outliers and calculate the percentage of outliers in the dataframe.\n",
    "\n",
    "Based on the above analysis, we can decide on an appropriate approach to handle outliers (**Ignore the Outliers, Apply Listwise Deletion, or Use Winsorization**)\n"
   ]
  },
  {
   "cell_type": "code",
   "execution_count": 65,
   "metadata": {
    "colab": {
     "base_uri": "https://localhost:8080/",
     "height": 1000
    },
    "id": "jcWSKp46znsB",
    "outputId": "21bb640e-3f95-4472-b1cb-351c5e9fb620"
   },
   "outputs": [
    {
     "data": {
      "image/png": "[encoded data removed]",
      "text/plain": [
       "<Figure size 500x1500 with 6 Axes>"
      ]
     },
     "metadata": {},
     "output_type": "display_data"
    }
   ],
   "source": [
    "# Select numerical columns\n",
    "numerical_columns = df.select_dtypes(include=['int64', 'float64']).columns\n",
    "\n",
    "# Identify dummy variables\n",
    "dummy_vars = []\n",
    "for col in df.select_dtypes(include=['int64', 'float64']).columns:\n",
    "    if df[col].nunique() == 2:\n",
    "        dummy_vars.append(col)\n",
    "\n",
    "numerical_columns = numerical_columns.drop(dummy_vars)\n",
    "\n",
    "\n",
    "# Create box plots for each variable with whiskers extending to 3 x IQR\n",
    "fig, axes = plt.subplots(len(numerical_columns), 1, figsize=(5, 15))\n",
    "\n",
    "for i, col in enumerate(numerical_columns):\n",
    "    df.boxplot(column=col, ax=axes[i], whis=3, vert=False, flierprops=dict(marker='o', markeredgecolor='red', alpha=0.5))\n",
    "    axes[i].set_title(col)\n",
    "\n",
    "plt.tight_layout()\n",
    "plt.show()\n"
   ]
  },
  {
   "cell_type": "code",
   "execution_count": 66,
   "metadata": {
    "colab": {
     "base_uri": "https://localhost:8080/"
    },
    "id": "cgBv1vyHEubc",
    "outputId": "46c4c67d-f5a8-4f23-a146-fb7cf3fcc815"
   },
   "outputs": [
    {
     "name": "stdout",
     "output_type": "stream",
     "text": [
      "Outliers count per feature:\n",
      "CreditScore: [0, 0.0]\n",
      "Age: [12, 0.12]\n",
      "Tenure: [0, 0.0]\n",
      "Balance: [0, 0.0]\n",
      "NumOfProducts: [0, 0.0]\n",
      "EstimatedSalary: [0, 0.0]\n"
     ]
    }
   ],
   "source": [
    "# Dictionary to hold the count of outliers for each column\n",
    "outliers_count = {}\n",
    "\n",
    "# Loop through each numerical column to calculate outliers\n",
    "for column in numerical_columns:\n",
    "    Q1 = df[column].quantile(0.25)\n",
    "    Q3 = df[column].quantile(0.75)\n",
    "    IQR = Q3 - Q1\n",
    "\n",
    "    # Define bounds for outliers\n",
    "    lower_bound = Q1 - 3 * IQR\n",
    "    upper_bound = Q3 + 3 * IQR\n",
    "\n",
    "    # Count outliers\n",
    "    outliers = df[(df[column] < lower_bound) | (df[column] > upper_bound)]\n",
    "    outliers_count[column] = [len(outliers), len(outliers) / len(df) * 100]\n",
    "\n",
    "# Print the results\n",
    "print(\"Outliers count per feature:\")\n",
    "for key, value in outliers_count.items():\n",
    "    print(f\"{key}: {value}\")\n"
   ]
  },
  {
   "cell_type": "markdown",
   "metadata": {
    "id": "2MKhCxN5CX1f"
   },
   "source": [
    "We are ignoring the outliers because they account for less than 1% of the data and represent natural variations that are expected within the given feature."
   ]
  },
  {
   "cell_type": "markdown",
   "metadata": {
    "id": "Tx3rsCuhzopA"
   },
   "source": [
    "## Step 6: One Hot Encoding & VIF\n",
    "We apply one-hot encoding to transform categorical variables like Geography and Gender into dummy variables, ensuring they are compatible with machine learning models. Each unique value in these columns is converted into a separate binary variable.\n",
    "\n",
    "\n",
    "We remove one dummy variable from each set to serve as the reference category. This prevents the dummy variable trap and reduces multicollinearity in the dataset.\n",
    "\n",
    "\n",
    "After encoding, we calculate the Variance Inflation Factor (VIF) for all features to detect multicollinearity. Based on the VIF results, we can decide whether to remove or retain variables with high multicollinearity, ensuring a stable and interpretable model.\n"
   ]
  },
  {
   "cell_type": "code",
   "execution_count": 69,
   "metadata": {
    "colab": {
     "base_uri": "https://localhost:8080/",
     "height": 209
    },
    "id": "GQtFWm_JzvC7",
    "outputId": "9aab2ff3-6ebd-415c-e51c-640cb8989d99"
   },
   "outputs": [
    {
     "data": {
      "text/plain": [
       "Geography\n",
       "France     5014\n",
       "Germany    2509\n",
       "Spain      2477\n",
       "Name: count, dtype: int64"
      ]
     },
     "execution_count": 69,
     "metadata": {},
     "output_type": "execute_result"
    }
   ],
   "source": [
    "# Checking Variable Distribution\n",
    "df['Geography'].value_counts()"
   ]
  },
  {
   "cell_type": "code",
   "execution_count": 70,
   "metadata": {
    "colab": {
     "base_uri": "https://localhost:8080/",
     "height": 178
    },
    "id": "DmeK5-xd-ejF",
    "outputId": "6c5a3d71-a5b3-4244-f45c-60d21c292d96"
   },
   "outputs": [
    {
     "data": {
      "text/plain": [
       "Gender\n",
       "Male      5494\n",
       "Female    4506\n",
       "Name: count, dtype: int64"
      ]
     },
     "execution_count": 70,
     "metadata": {},
     "output_type": "execute_result"
    }
   ],
   "source": [
    "# Checking Variable Distribution\n",
    "df['Gender'].value_counts()"
   ]
  },
  {
   "cell_type": "markdown",
   "metadata": {
    "id": "s0tgHFinE6pc"
   },
   "source": [
    "This step examines the unique values and their frequency in the `Geography` and `Gender` variables to ensure there are no anomalies. Understanding the distribution also helps us in selecting a suitable reference category for one-hot encoding."
   ]
  },
  {
   "cell_type": "code",
   "execution_count": 72,
   "metadata": {
    "colab": {
     "base_uri": "https://localhost:8080/",
     "height": 455
    },
    "id": "OfW3usS2-V94",
    "outputId": "383d2b51-949e-4c4f-9d4e-608b5daebca8"
   },
   "outputs": [
    {
     "data": {
      "text/html": [
       "<div>\n",
       "<style scoped>\n",
       "    .dataframe tbody tr th:only-of-type {\n",
       "        vertical-align: middle;\n",
       "    }\n",
       "\n",
       "    .dataframe tbody tr th {\n",
       "        vertical-align: top;\n",
       "    }\n",
       "\n",
       "    .dataframe thead th {\n",
       "        text-align: right;\n",
       "    }\n",
       "</style>\n",
       "<table border=\"1\" class=\"dataframe\">\n",
       "  <thead>\n",
       "    <tr style=\"text-align: right;\">\n",
       "      <th></th>\n",
       "      <th>CreditScore</th>\n",
       "      <th>Age</th>\n",
       "      <th>Tenure</th>\n",
       "      <th>Balance</th>\n",
       "      <th>NumOfProducts</th>\n",
       "      <th>HasCrCard</th>\n",
       "      <th>IsActiveMember</th>\n",
       "      <th>EstimatedSalary</th>\n",
       "      <th>Exited</th>\n",
       "      <th>Geo_France</th>\n",
       "      <th>Geo_Spain</th>\n",
       "      <th>Gen_Female</th>\n",
       "    </tr>\n",
       "    <tr>\n",
       "      <th>CustomerId</th>\n",
       "      <th></th>\n",
       "      <th></th>\n",
       "      <th></th>\n",
       "      <th></th>\n",
       "      <th></th>\n",
       "      <th></th>\n",
       "      <th></th>\n",
       "      <th></th>\n",
       "      <th></th>\n",
       "      <th></th>\n",
       "      <th></th>\n",
       "      <th></th>\n",
       "    </tr>\n",
       "  </thead>\n",
       "  <tbody>\n",
       "    <tr>\n",
       "      <th>15634602</th>\n",
       "      <td>619</td>\n",
       "      <td>42.0</td>\n",
       "      <td>2</td>\n",
       "      <td>0.00</td>\n",
       "      <td>1</td>\n",
       "      <td>1</td>\n",
       "      <td>1</td>\n",
       "      <td>101348.88</td>\n",
       "      <td>1</td>\n",
       "      <td>1</td>\n",
       "      <td>0</td>\n",
       "      <td>1</td>\n",
       "    </tr>\n",
       "    <tr>\n",
       "      <th>15647311</th>\n",
       "      <td>608</td>\n",
       "      <td>41.0</td>\n",
       "      <td>1</td>\n",
       "      <td>83807.86</td>\n",
       "      <td>1</td>\n",
       "      <td>0</td>\n",
       "      <td>1</td>\n",
       "      <td>112542.58</td>\n",
       "      <td>0</td>\n",
       "      <td>0</td>\n",
       "      <td>1</td>\n",
       "      <td>1</td>\n",
       "    </tr>\n",
       "    <tr>\n",
       "      <th>15619304</th>\n",
       "      <td>502</td>\n",
       "      <td>42.0</td>\n",
       "      <td>8</td>\n",
       "      <td>159660.80</td>\n",
       "      <td>3</td>\n",
       "      <td>1</td>\n",
       "      <td>0</td>\n",
       "      <td>113931.57</td>\n",
       "      <td>1</td>\n",
       "      <td>1</td>\n",
       "      <td>0</td>\n",
       "      <td>1</td>\n",
       "    </tr>\n",
       "    <tr>\n",
       "      <th>15701354</th>\n",
       "      <td>699</td>\n",
       "      <td>39.0</td>\n",
       "      <td>1</td>\n",
       "      <td>0.00</td>\n",
       "      <td>2</td>\n",
       "      <td>0</td>\n",
       "      <td>0</td>\n",
       "      <td>93826.63</td>\n",
       "      <td>0</td>\n",
       "      <td>1</td>\n",
       "      <td>0</td>\n",
       "      <td>1</td>\n",
       "    </tr>\n",
       "    <tr>\n",
       "      <th>15737888</th>\n",
       "      <td>850</td>\n",
       "      <td>43.0</td>\n",
       "      <td>2</td>\n",
       "      <td>125510.82</td>\n",
       "      <td>1</td>\n",
       "      <td>1</td>\n",
       "      <td>1</td>\n",
       "      <td>79084.10</td>\n",
       "      <td>0</td>\n",
       "      <td>0</td>\n",
       "      <td>1</td>\n",
       "      <td>1</td>\n",
       "    </tr>\n",
       "    <tr>\n",
       "      <th>...</th>\n",
       "      <td>...</td>\n",
       "      <td>...</td>\n",
       "      <td>...</td>\n",
       "      <td>...</td>\n",
       "      <td>...</td>\n",
       "      <td>...</td>\n",
       "      <td>...</td>\n",
       "      <td>...</td>\n",
       "      <td>...</td>\n",
       "      <td>...</td>\n",
       "      <td>...</td>\n",
       "      <td>...</td>\n",
       "    </tr>\n",
       "    <tr>\n",
       "      <th>15606229</th>\n",
       "      <td>771</td>\n",
       "      <td>39.0</td>\n",
       "      <td>5</td>\n",
       "      <td>0.00</td>\n",
       "      <td>2</td>\n",
       "      <td>1</td>\n",
       "      <td>0</td>\n",
       "      <td>96270.64</td>\n",
       "      <td>0</td>\n",
       "      <td>1</td>\n",
       "      <td>0</td>\n",
       "      <td>0</td>\n",
       "    </tr>\n",
       "    <tr>\n",
       "      <th>15569892</th>\n",
       "      <td>516</td>\n",
       "      <td>35.0</td>\n",
       "      <td>10</td>\n",
       "      <td>57369.61</td>\n",
       "      <td>1</td>\n",
       "      <td>1</td>\n",
       "      <td>1</td>\n",
       "      <td>101699.77</td>\n",
       "      <td>0</td>\n",
       "      <td>1</td>\n",
       "      <td>0</td>\n",
       "      <td>0</td>\n",
       "    </tr>\n",
       "    <tr>\n",
       "      <th>15584532</th>\n",
       "      <td>709</td>\n",
       "      <td>36.0</td>\n",
       "      <td>7</td>\n",
       "      <td>0.00</td>\n",
       "      <td>1</td>\n",
       "      <td>0</td>\n",
       "      <td>1</td>\n",
       "      <td>42085.58</td>\n",
       "      <td>1</td>\n",
       "      <td>1</td>\n",
       "      <td>0</td>\n",
       "      <td>1</td>\n",
       "    </tr>\n",
       "    <tr>\n",
       "      <th>15682355</th>\n",
       "      <td>772</td>\n",
       "      <td>42.0</td>\n",
       "      <td>3</td>\n",
       "      <td>75075.31</td>\n",
       "      <td>2</td>\n",
       "      <td>1</td>\n",
       "      <td>0</td>\n",
       "      <td>92888.52</td>\n",
       "      <td>1</td>\n",
       "      <td>0</td>\n",
       "      <td>0</td>\n",
       "      <td>0</td>\n",
       "    </tr>\n",
       "    <tr>\n",
       "      <th>15628319</th>\n",
       "      <td>792</td>\n",
       "      <td>28.0</td>\n",
       "      <td>4</td>\n",
       "      <td>130142.79</td>\n",
       "      <td>1</td>\n",
       "      <td>1</td>\n",
       "      <td>0</td>\n",
       "      <td>38190.78</td>\n",
       "      <td>0</td>\n",
       "      <td>1</td>\n",
       "      <td>0</td>\n",
       "      <td>1</td>\n",
       "    </tr>\n",
       "  </tbody>\n",
       "</table>\n",
       "<p>10000 rows × 12 columns</p>\n",
       "</div>"
      ],
      "text/plain": [
       "            CreditScore   Age  Tenure    Balance  NumOfProducts  HasCrCard  \\\n",
       "CustomerId                                                                   \n",
       "15634602            619  42.0       2       0.00              1          1   \n",
       "15647311            608  41.0       1   83807.86              1          0   \n",
       "15619304            502  42.0       8  159660.80              3          1   \n",
       "15701354            699  39.0       1       0.00              2          0   \n",
       "15737888            850  43.0       2  125510.82              1          1   \n",
       "...                 ...   ...     ...        ...            ...        ...   \n",
       "15606229            771  39.0       5       0.00              2          1   \n",
       "15569892            516  35.0      10   57369.61              1          1   \n",
       "15584532            709  36.0       7       0.00              1          0   \n",
       "15682355            772  42.0       3   75075.31              2          1   \n",
       "15628319            792  28.0       4  130142.79              1          1   \n",
       "\n",
       "            IsActiveMember  EstimatedSalary  Exited  Geo_France  Geo_Spain  \\\n",
       "CustomerId                                                                   \n",
       "15634602                 1        101348.88       1           1          0   \n",
       "15647311                 1        112542.58       0           0          1   \n",
       "15619304                 0        113931.57       1           1          0   \n",
       "15701354                 0         93826.63       0           1          0   \n",
       "15737888                 1         79084.10       0           0          1   \n",
       "...                    ...              ...     ...         ...        ...   \n",
       "15606229                 0         96270.64       0           1          0   \n",
       "15569892                 1        101699.77       0           1          0   \n",
       "15584532                 1         42085.58       1           1          0   \n",
       "15682355                 0         92888.52       1           0          0   \n",
       "15628319                 0         38190.78       0           1          0   \n",
       "\n",
       "            Gen_Female  \n",
       "CustomerId              \n",
       "15634602             1  \n",
       "15647311             1  \n",
       "15619304             1  \n",
       "15701354             1  \n",
       "15737888             1  \n",
       "...                ...  \n",
       "15606229             0  \n",
       "15569892             0  \n",
       "15584532             1  \n",
       "15682355             0  \n",
       "15628319             1  \n",
       "\n",
       "[10000 rows x 12 columns]"
      ]
     },
     "execution_count": 72,
     "metadata": {},
     "output_type": "execute_result"
    }
   ],
   "source": [
    "# Convert boolean to integer after one-hot encoding\n",
    "df = pd.get_dummies(df, columns=['Geography', 'Gender'], prefix=['Geo', 'Gen'])\n",
    "\n",
    "# Ensure all new columns are integer type\n",
    "dummy_columns = [col for col in df.columns if col.startswith('Geo_') or col.startswith('Gen_')]\n",
    "df[dummy_columns] = df[dummy_columns].astype(int)\n",
    "\n",
    "# Drop reference categories to prevent dummy variable trap\n",
    "df.drop(['Geo_Germany', 'Gen_Male'], axis=1, inplace=True)\n",
    "\n",
    "df"
   ]
  },
  {
   "cell_type": "markdown",
   "metadata": {
    "id": "x2iUSzOFFCzs"
   },
   "source": [
    "· Categorical variables Geography and Gender are converted into binary dummy variables (e.g., Geo_France, Geo_Spain). This ensures the data is numerically formatted and compatible with machine learning models.\n",
    "\n",
    "· One category from each variable, such as Geo_Germany and Gen_Male, is removed to serve as the reference category. This prevents multicollinearity and avoids the dummy variable trap in modeling."
   ]
  },
  {
   "cell_type": "code",
   "execution_count": 74,
   "metadata": {
    "colab": {
     "base_uri": "https://localhost:8080/",
     "height": 425
    },
    "id": "BtemujSjiLY5",
    "outputId": "69ebbb78-e1c1-42a2-9080-1a2e7a9fd0a5"
   },
   "outputs": [
    {
     "data": {
      "text/html": [
       "<div>\n",
       "<style scoped>\n",
       "    .dataframe tbody tr th:only-of-type {\n",
       "        vertical-align: middle;\n",
       "    }\n",
       "\n",
       "    .dataframe tbody tr th {\n",
       "        vertical-align: top;\n",
       "    }\n",
       "\n",
       "    .dataframe thead th {\n",
       "        text-align: right;\n",
       "    }\n",
       "</style>\n",
       "<table border=\"1\" class=\"dataframe\">\n",
       "  <thead>\n",
       "    <tr style=\"text-align: right;\">\n",
       "      <th></th>\n",
       "      <th>variable</th>\n",
       "      <th>VIF</th>\n",
       "    </tr>\n",
       "  </thead>\n",
       "  <tbody>\n",
       "    <tr>\n",
       "      <th>0</th>\n",
       "      <td>CreditScore</td>\n",
       "      <td>23.487718</td>\n",
       "    </tr>\n",
       "    <tr>\n",
       "      <th>1</th>\n",
       "      <td>Age</td>\n",
       "      <td>14.020915</td>\n",
       "    </tr>\n",
       "    <tr>\n",
       "      <th>4</th>\n",
       "      <td>NumOfProducts</td>\n",
       "      <td>7.728610</td>\n",
       "    </tr>\n",
       "    <tr>\n",
       "      <th>7</th>\n",
       "      <td>EstimatedSalary</td>\n",
       "      <td>3.902153</td>\n",
       "    </tr>\n",
       "    <tr>\n",
       "      <th>2</th>\n",
       "      <td>Tenure</td>\n",
       "      <td>3.878980</td>\n",
       "    </tr>\n",
       "    <tr>\n",
       "      <th>5</th>\n",
       "      <td>HasCrCard</td>\n",
       "      <td>3.294038</td>\n",
       "    </tr>\n",
       "    <tr>\n",
       "      <th>9</th>\n",
       "      <td>Geo_France</td>\n",
       "      <td>3.287726</td>\n",
       "    </tr>\n",
       "    <tr>\n",
       "      <th>3</th>\n",
       "      <td>Balance</td>\n",
       "      <td>2.995220</td>\n",
       "    </tr>\n",
       "    <tr>\n",
       "      <th>6</th>\n",
       "      <td>IsActiveMember</td>\n",
       "      <td>2.152884</td>\n",
       "    </tr>\n",
       "    <tr>\n",
       "      <th>10</th>\n",
       "      <td>Geo_Spain</td>\n",
       "      <td>2.140008</td>\n",
       "    </tr>\n",
       "    <tr>\n",
       "      <th>11</th>\n",
       "      <td>Gen_Female</td>\n",
       "      <td>1.829899</td>\n",
       "    </tr>\n",
       "    <tr>\n",
       "      <th>8</th>\n",
       "      <td>Exited</td>\n",
       "      <td>1.477966</td>\n",
       "    </tr>\n",
       "  </tbody>\n",
       "</table>\n",
       "</div>"
      ],
      "text/plain": [
       "           variable        VIF\n",
       "0       CreditScore  23.487718\n",
       "1               Age  14.020915\n",
       "4     NumOfProducts   7.728610\n",
       "7   EstimatedSalary   3.902153\n",
       "2            Tenure   3.878980\n",
       "5         HasCrCard   3.294038\n",
       "9        Geo_France   3.287726\n",
       "3           Balance   2.995220\n",
       "6    IsActiveMember   2.152884\n",
       "10        Geo_Spain   2.140008\n",
       "11       Gen_Female   1.829899\n",
       "8            Exited   1.477966"
      ]
     },
     "execution_count": 74,
     "metadata": {},
     "output_type": "execute_result"
    }
   ],
   "source": [
    "# Calculate VIF for each explanatory variable\n",
    "vif_data = pd.DataFrame()\n",
    "vif_data[\"variable\"] = df.columns  # Use all columns from the DataFrame\n",
    "vif_data[\"VIF\"] = [variance_inflation_factor(df.values, i) for i in range(df.shape[1])]\n",
    "\n",
    "# Sort the DataFrame by VIF values in descending order\n",
    "vif_data.sort_values(\"VIF\", ascending=False, inplace=True)\n",
    "\n",
    "# Display the VIF data\n",
    "vif_data"
   ]
  },
  {
   "cell_type": "markdown",
   "metadata": {
    "id": "dhUJPapWtzDo"
   },
   "source": [
    "Based on the VIF analysis, there are still some features with high VIF values, such as `CreditScore` and `Age`, indicating potential multicollinearity. However, since these features may represent important dimensions of the dataset, it may be reasonable to include them in the initial model."
   ]
  },
  {
   "cell_type": "markdown",
   "metadata": {
    "id": "KCRrm2AXzviH"
   },
   "source": [
    "## Step 7: Feature Scaling\n",
    "**Using StandardScaler to normalize non-dummy numeric features in the dataset.**\n",
    "\n",
    "First, we identify numeric columns and separate out dummy variables (binary features).\n",
    "\n",
    "Then, applying scaling to the non-dummy numeric features to standardize our values, improving model performance.\n"
   ]
  },
  {
   "cell_type": "code",
   "execution_count": 77,
   "metadata": {
    "colab": {
     "base_uri": "https://localhost:8080/",
     "height": 237
    },
    "id": "lbERlfd3zzS1",
    "outputId": "56cc6408-286a-4fd2-9dc7-f0b5d659ac76"
   },
   "outputs": [
    {
     "data": {
      "text/html": [
       "<div>\n",
       "<style scoped>\n",
       "    .dataframe tbody tr th:only-of-type {\n",
       "        vertical-align: middle;\n",
       "    }\n",
       "\n",
       "    .dataframe tbody tr th {\n",
       "        vertical-align: top;\n",
       "    }\n",
       "\n",
       "    .dataframe thead th {\n",
       "        text-align: right;\n",
       "    }\n",
       "</style>\n",
       "<table border=\"1\" class=\"dataframe\">\n",
       "  <thead>\n",
       "    <tr style=\"text-align: right;\">\n",
       "      <th></th>\n",
       "      <th>CreditScore</th>\n",
       "      <th>Age</th>\n",
       "      <th>Tenure</th>\n",
       "      <th>Balance</th>\n",
       "      <th>NumOfProducts</th>\n",
       "      <th>HasCrCard</th>\n",
       "      <th>IsActiveMember</th>\n",
       "      <th>EstimatedSalary</th>\n",
       "      <th>Exited</th>\n",
       "      <th>Geo_France</th>\n",
       "      <th>Geo_Spain</th>\n",
       "      <th>Gen_Female</th>\n",
       "    </tr>\n",
       "    <tr>\n",
       "      <th>CustomerId</th>\n",
       "      <th></th>\n",
       "      <th></th>\n",
       "      <th></th>\n",
       "      <th></th>\n",
       "      <th></th>\n",
       "      <th></th>\n",
       "      <th></th>\n",
       "      <th></th>\n",
       "      <th></th>\n",
       "      <th></th>\n",
       "      <th></th>\n",
       "      <th></th>\n",
       "    </tr>\n",
       "  </thead>\n",
       "  <tbody>\n",
       "    <tr>\n",
       "      <th>15634602</th>\n",
       "      <td>-0.326221</td>\n",
       "      <td>0.295744</td>\n",
       "      <td>-1.041760</td>\n",
       "      <td>-1.225848</td>\n",
       "      <td>-0.911583</td>\n",
       "      <td>1</td>\n",
       "      <td>1</td>\n",
       "      <td>0.021886</td>\n",
       "      <td>1</td>\n",
       "      <td>1</td>\n",
       "      <td>0</td>\n",
       "      <td>1</td>\n",
       "    </tr>\n",
       "    <tr>\n",
       "      <th>15647311</th>\n",
       "      <td>-0.440036</td>\n",
       "      <td>0.199873</td>\n",
       "      <td>-1.387538</td>\n",
       "      <td>0.117350</td>\n",
       "      <td>-0.911583</td>\n",
       "      <td>0</td>\n",
       "      <td>1</td>\n",
       "      <td>0.216534</td>\n",
       "      <td>0</td>\n",
       "      <td>0</td>\n",
       "      <td>1</td>\n",
       "      <td>1</td>\n",
       "    </tr>\n",
       "    <tr>\n",
       "      <th>15619304</th>\n",
       "      <td>-1.536794</td>\n",
       "      <td>0.295744</td>\n",
       "      <td>1.032908</td>\n",
       "      <td>1.333053</td>\n",
       "      <td>2.527057</td>\n",
       "      <td>1</td>\n",
       "      <td>0</td>\n",
       "      <td>0.240687</td>\n",
       "      <td>1</td>\n",
       "      <td>1</td>\n",
       "      <td>0</td>\n",
       "      <td>1</td>\n",
       "    </tr>\n",
       "    <tr>\n",
       "      <th>15701354</th>\n",
       "      <td>0.501521</td>\n",
       "      <td>0.008129</td>\n",
       "      <td>-1.387538</td>\n",
       "      <td>-1.225848</td>\n",
       "      <td>0.807737</td>\n",
       "      <td>0</td>\n",
       "      <td>0</td>\n",
       "      <td>-0.108918</td>\n",
       "      <td>0</td>\n",
       "      <td>1</td>\n",
       "      <td>0</td>\n",
       "      <td>1</td>\n",
       "    </tr>\n",
       "    <tr>\n",
       "      <th>15737888</th>\n",
       "      <td>2.063884</td>\n",
       "      <td>0.391616</td>\n",
       "      <td>-1.041760</td>\n",
       "      <td>0.785728</td>\n",
       "      <td>-0.911583</td>\n",
       "      <td>1</td>\n",
       "      <td>1</td>\n",
       "      <td>-0.365276</td>\n",
       "      <td>0</td>\n",
       "      <td>0</td>\n",
       "      <td>1</td>\n",
       "      <td>1</td>\n",
       "    </tr>\n",
       "  </tbody>\n",
       "</table>\n",
       "</div>"
      ],
      "text/plain": [
       "            CreditScore       Age    Tenure   Balance  NumOfProducts  \\\n",
       "CustomerId                                                             \n",
       "15634602      -0.326221  0.295744 -1.041760 -1.225848      -0.911583   \n",
       "15647311      -0.440036  0.199873 -1.387538  0.117350      -0.911583   \n",
       "15619304      -1.536794  0.295744  1.032908  1.333053       2.527057   \n",
       "15701354       0.501521  0.008129 -1.387538 -1.225848       0.807737   \n",
       "15737888       2.063884  0.391616 -1.041760  0.785728      -0.911583   \n",
       "\n",
       "            HasCrCard  IsActiveMember  EstimatedSalary  Exited  Geo_France  \\\n",
       "CustomerId                                                                   \n",
       "15634602            1               1         0.021886       1           1   \n",
       "15647311            0               1         0.216534       0           0   \n",
       "15619304            1               0         0.240687       1           1   \n",
       "15701354            0               0        -0.108918       0           1   \n",
       "15737888            1               1        -0.365276       0           0   \n",
       "\n",
       "            Geo_Spain  Gen_Female  \n",
       "CustomerId                         \n",
       "15634602            0           1  \n",
       "15647311            1           1  \n",
       "15619304            0           1  \n",
       "15701354            0           1  \n",
       "15737888            1           1  "
      ]
     },
     "execution_count": 77,
     "metadata": {},
     "output_type": "execute_result"
    }
   ],
   "source": [
    "from sklearn.preprocessing import StandardScaler\n",
    "# Separate numeric and dummy variable features\n",
    "numeric_features = df.select_dtypes(include=['int64', 'float64']).columns\n",
    "dummy_features = [col for col in numeric_features if df[col].nunique() == 2]  # Likely dummy variables\n",
    "non_dummy_numeric_features = numeric_features.difference(dummy_features)\n",
    "\n",
    "# Apply scaling to non-dummy numeric features\n",
    "scaler = StandardScaler()\n",
    "df[non_dummy_numeric_features] = scaler.fit_transform(df[non_dummy_numeric_features])\n",
    "\n",
    "\n",
    "df.head()"
   ]
  },
  {
   "cell_type": "markdown",
   "metadata": {
    "id": "7j49R4SCz1jF"
   },
   "source": [
    "## Step 8: Export your Engineered Dataframe\n",
    "Export your final engineered dataframe as a Microsoft Excel file.\n",
    "\n"
   ]
  },
  {
   "cell_type": "code",
   "execution_count": 79,
   "metadata": {
    "id": "OTC6xcQ8Ppiq"
   },
   "outputs": [],
   "source": [
    "df.to_excel('Churn_Modelling_Updated_Engineered.xlsx', index=True)"
   ]
  }
 ],
 "metadata": {
  "colab": {
   "collapsed_sections": [
    "JiyvV0vtQIOP",
    "S28FQuRBk8_3",
    "ex-M1MbL666I",
    "GWIXIOtTjEwG",
    "fZuaCL26v8mm",
    "-J25hruDwVd2",
    "pTOq0aptHDnK",
    "VVYfFzIQzj5r",
    "Tx3rsCuhzopA",
    "KCRrm2AXzviH",
    "7j49R4SCz1jF"
   ],
   "provenance": []
  },
  "kernelspec": {
   "display_name": "Python 3 (ipykernel)",
   "language": "python",
   "name": "python3"
  },
  "language_info": {
   "codemirror_mode": {
    "name": "ipython",
    "version": 3
   },
   "file_extension": ".py",
   "mimetype": "text/x-python",
   "name": "python",
   "nbconvert_exporter": "python",
   "pygments_lexer": "ipython3",
   "version": "3.12.4"
  }
 },
 "nbformat": 4,
 "nbformat_minor": 4
}
